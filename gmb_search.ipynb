{
 "cells": [
  {
   "cell_type": "code",
   "execution_count": 212,
   "id": "c5b0f384-0597-4bf8-be89-6a28660fb090",
   "metadata": {},
   "outputs": [],
   "source": [
    "from selenium import webdriver\n",
    "from selenium.webdriver.common.by import By\n",
    "from selenium.webdriver.support.ui import WebDriverWait\n",
    "from selenium.webdriver.support import expected_conditions as EC\n",
    "import pickle\n",
    "import os.path\n",
    "from googleapiclient import discovery\n",
    "from httplib2 import Http\n",
    "import pandas as pd\n",
    "import numpy as np\n",
    "import datetime as dt\n",
    "import requests\n",
    "import shutil\n",
    "from selenium import webdriver\n",
    "from webdriver_manager.chrome import ChromeDriverManager\n",
    "from selenium.common.exceptions import ElementClickInterceptedException\n",
    "from selenium.webdriver.chrome.service import Service\n",
    "from selenium.webdriver.chrome.options import Options\n",
    "from selenium.webdriver.common.action_chains import ActionChains\n",
    "from selenium.webdriver.common.keys import Keys\n",
    "from selenium.webdriver.chrome.service import Service as ChromeService\n",
    "# Configure the Selenium webdriver\n",
    "import time\n"
   ]
  },
  {
   "cell_type": "code",
   "execution_count": 213,
   "id": "521c30f9-b230-4b22-a7b6-2fd3646714a7",
   "metadata": {},
   "outputs": [],
   "source": [
    "opt = Options()\n",
    "# opt.add_argument('--headless')\n",
    "opt.add_argument(\"--disable-infobars\")\n",
    "opt.add_argument(\"start-maximized\")\n",
    "opt.add_argument(\"--disable-extensions\")\n",
    "opt.add_experimental_option(\"prefs\", {\\\n",
    "    \"profile.default_content_setting_values.notifications\":1\n",
    "    })\n",
    "opt.add_argument('--disable-gpu')\n",
    "opt.add_experimental_option(\"excludeSwitches\", [\"enable-automation\"])\n",
    "opt.add_experimental_option('useAutomationExtension', False)\n"
   ]
  },
  {
   "cell_type": "code",
   "execution_count": 214,
   "id": "7a087a26-1691-45c8-a216-12a239506d9f",
   "metadata": {},
   "outputs": [],
   "source": [
    "# options = webdriver.ChromeOptions()\n",
    "# driver = webdriver.Chrome(ChromeDriverManager().install(),options= options)\n",
    "driver = webdriver.Chrome(service=ChromeService(ChromeDriverManager().install()))\n"
   ]
  },
  {
   "cell_type": "code",
   "execution_count": 215,
   "id": "afae59c2-6cb4-418e-90db-22af88211d03",
   "metadata": {},
   "outputs": [],
   "source": [
    "\n",
    "driver.get(\"https://www.google.com/maps\")\n"
   ]
  },
  {
   "cell_type": "code",
   "execution_count": 216,
   "id": "57b99215-b4cb-4e44-96eb-b21827ac1b02",
   "metadata": {},
   "outputs": [],
   "source": [
    "seach_bar= driver.find_element(By.ID, \"searchboxinput\")\n",
    "seach_bar.send_keys(\"Doctors in gurgaon\")\n",
    "# target_url = \"https://vahan.parivahan.gov.in/nrservices/faces/user/citizen/citizenlogin.xhtml\"\n",
    "# href = link.get_attribute(\"href\")"
   ]
  },
  {
   "cell_type": "code",
   "execution_count": 217,
   "id": "53d7c370-86bc-422d-bc6f-02d9a4f141b6",
   "metadata": {},
   "outputs": [],
   "source": [
    "driver.find_element(By.ID, \"searchbox-searchbutton\").click()\n",
    "time.sleep(5)"
   ]
  },
  {
   "cell_type": "code",
   "execution_count": 218,
   "id": "62c0ef6b-480d-42ac-99b7-3dee4c4f4f8a",
   "metadata": {},
   "outputs": [
    {
     "name": "stdout",
     "output_type": "stream",
     "text": [
      "Skyn Stories by Dr. Meenu Sethi l DLF Phase 1 phone number is 081301 60572\n",
      "Tulip Chest and Child Care Clinic phone number is 089200 25892\n",
      "Dr. Nitin Saluja - Best Doctor in Gurgaon / Best General Physician in Gurgaon phone number is 098711 08211\n",
      "Dr Jitender Gupta Clinic phone number is 098712 05435\n",
      "Dr. Rashmi Tarachandani - General Physicians Near Me - Best MBBS Doctor In Gurgaon phone number is 088009 36800\n",
      "HARYANA CLINIC phone number is 092120 41171\n"
     ]
    }
   ],
   "source": [
    "# name = driver.find_elements(By.CLASS_NAME,'NrDZNb') \n",
    "# number= driver.find_elements(By.CLASS_NAME,'UsdlK') \n",
    "total_elements = driver.find_elements(By.CLASS_NAME,\"lI9IFe \")\n",
    "for i in range(len(total_elements)):\n",
    "    try:\n",
    "        name = total_elements[i].find_elements(By.CLASS_NAME,'NrDZNb')[0].text\n",
    "        phone = total_elements[i].find_elements(By.CLASS_NAME,'UsdlK')[0].text\n",
    "    except:\n",
    "        pass\n",
    "\n",
    "    print(str(name)+' phone number is '+str(phone))    \n",
    "# driver.find_elements(By.CLASS_NAME,\"lI9IFe \")[0].find_elements(By.CLASS_NAME,'UsdlK')[0].text"
   ]
  },
  {
   "cell_type": "code",
   "execution_count": 209,
   "id": "21ff5086-0c59-4f9e-803c-20d1b3fc6c85",
   "metadata": {},
   "outputs": [
    {
     "data": {
      "text/plain": [
       "32"
      ]
     },
     "execution_count": 209,
     "metadata": {},
     "output_type": "execute_result"
    }
   ],
   "source": [
    "# password= driver.find_element(By.ID, \"tfPASSWORD\")\n",
    "# password.send_keys('Zeom@123')\n",
    "# print(len(name))\n",
    "# print(len(number))\n",
    "len(total_elements)"
   ]
  },
  {
   "cell_type": "code",
   "execution_count": 205,
   "id": "5dc93c46-5282-4bdd-89f1-52ccca8c2ad1",
   "metadata": {},
   "outputs": [
    {
     "data": {
      "text/plain": [
       "[]"
      ]
     },
     "execution_count": 205,
     "metadata": {},
     "output_type": "execute_result"
    }
   ],
   "source": [
    "driver.find_elements(By.CLASS_NAME,'NrDZNb')[0].find_elements(By.CLASS_NAME,'UsdlK')"
   ]
  },
  {
   "cell_type": "code",
   "execution_count": 173,
   "id": "7cbe8125-d714-4ac6-9f17-baaf0715297f",
   "metadata": {},
   "outputs": [],
   "source": [
    "# actions = ActionChains(driver)\n",
    "# actions.send_keys(Keys.PAGE_DOWN)  # You can use this line multiple times to scroll further\n",
    "# actions.perform()\n"
   ]
  },
  {
   "cell_type": "code",
   "execution_count": 206,
   "id": "f9bdfdc4-5c9a-46e4-8d84-b2cf4671548a",
   "metadata": {},
   "outputs": [
    {
     "data": {
      "text/plain": [
       "'076785 29137'"
      ]
     },
     "execution_count": 206,
     "metadata": {},
     "output_type": "execute_result"
    }
   ],
   "source": [
    "# driver.find_elements(By.CLASS_NAME,\"lI9IFe \")[0].find_elements(By.CLASS_NAME,'UsdlK')[0].text"
   ]
  },
  {
   "cell_type": "code",
   "execution_count": 139,
   "id": "c389dd66-5490-4151-b1de-f6bbd7a217b3",
   "metadata": {},
   "outputs": [],
   "source": [
    "# a = driver.execute_script(\"window.scrollTo(10, document.body.scrollHeight);\")"
   ]
  },
  {
   "cell_type": "code",
   "execution_count": 141,
   "id": "7b1adba9-8894-48e8-aaf2-adaf151e68c0",
   "metadata": {},
   "outputs": [
    {
     "data": {
      "text/plain": [
       "562"
      ]
     },
     "execution_count": 141,
     "metadata": {},
     "output_type": "execute_result"
    }
   ],
   "source": [
    "# driver.execute_script(\"return document.body.scrollHeight\")"
   ]
  },
  {
   "cell_type": "code",
   "execution_count": 150,
   "id": "6e773c82-af4e-413d-906f-07091c921897",
   "metadata": {},
   "outputs": [
    {
     "data": {
      "text/plain": [
       "562"
      ]
     },
     "execution_count": 150,
     "metadata": {},
     "output_type": "execute_result"
    }
   ],
   "source": [
    "# driver.execute_script(\"return document.body.scrollHeight\")"
   ]
  },
  {
   "cell_type": "code",
   "execution_count": 144,
   "id": "e03f3fcf-5422-458b-9d3e-7d5b49b55a4c",
   "metadata": {},
   "outputs": [
    {
     "data": {
      "text/plain": [
       "0"
      ]
     },
     "execution_count": 144,
     "metadata": {},
     "output_type": "execute_result"
    }
   ],
   "source": [
    "# driver.execute_script(\"return document.body.scrollTop\")\n"
   ]
  },
  {
   "cell_type": "code",
   "execution_count": 184,
   "id": "0bddf99e-7f84-4f0c-a07a-91fb805207ed",
   "metadata": {},
   "outputs": [
    {
     "ename": "AttributeError",
     "evalue": "'WebDriver' object has no attribute 'get_property'",
     "output_type": "error",
     "traceback": [
      "\u001b[1;31m---------------------------------------------------------------------------\u001b[0m",
      "\u001b[1;31mAttributeError\u001b[0m                            Traceback (most recent call last)",
      "Cell \u001b[1;32mIn[184], line 1\u001b[0m\n\u001b[1;32m----> 1\u001b[0m \u001b[43mdriver\u001b[49m\u001b[38;5;241;43m.\u001b[39;49m\u001b[43mget_property\u001b[49m(cards[\u001b[38;5;241m2\u001b[39m])\n",
      "\u001b[1;31mAttributeError\u001b[0m: 'WebDriver' object has no attribute 'get_property'"
     ]
    }
   ],
   "source": [
    "# driver.get_property(cards[2])"
   ]
  },
  {
   "cell_type": "code",
   "execution_count": null,
   "id": "b7ba3ea0-ba59-4f09-b8df-238f9f80f89c",
   "metadata": {},
   "outputs": [],
   "source": []
  }
 ],
 "metadata": {
  "kernelspec": {
   "display_name": "Python 3 (ipykernel)",
   "language": "python",
   "name": "python3"
  },
  "language_info": {
   "codemirror_mode": {
    "name": "ipython",
    "version": 3
   },
   "file_extension": ".py",
   "mimetype": "text/x-python",
   "name": "python",
   "nbconvert_exporter": "python",
   "pygments_lexer": "ipython3",
   "version": "3.11.7"
  }
 },
 "nbformat": 4,
 "nbformat_minor": 5
}
