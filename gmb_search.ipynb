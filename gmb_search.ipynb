{
 "cells": [
  {
   "cell_type": "code",
   "execution_count": 1,
   "id": "c5b0f384-0597-4bf8-be89-6a28660fb090",
   "metadata": {},
   "outputs": [],
   "source": [
    "from selenium import webdriver\n",
    "from selenium.webdriver.common.by import By\n",
    "from selenium.webdriver.support.ui import WebDriverWait\n",
    "from selenium.webdriver.support import expected_conditions as EC\n",
    "import pickle\n",
    "import os.path\n",
    "from googleapiclient import discovery\n",
    "from httplib2 import Http\n",
    "import pandas as pd\n",
    "import numpy as np\n",
    "import datetime as dt\n",
    "import requests\n",
    "import shutil\n",
    "from selenium import webdriver\n",
    "from webdriver_manager.chrome import ChromeDriverManager\n",
    "from selenium.common.exceptions import ElementClickInterceptedException\n",
    "from selenium.webdriver.chrome.service import Service\n",
    "from selenium.webdriver.chrome.options import Options\n",
    "from selenium.webdriver.common.action_chains import ActionChains\n",
    "from selenium.webdriver.common.keys import Keys\n",
    "from selenium.webdriver.chrome.service import Service as ChromeService\n",
    "# Configure the Selenium webdriver\n",
    "\n",
    "import time\n"
   ]
  },
  {
   "cell_type": "code",
   "execution_count": 2,
   "id": "521c30f9-b230-4b22-a7b6-2fd3646714a7",
   "metadata": {},
   "outputs": [],
   "source": [
    "opt = Options()\n",
    "# opt.add_argument('--headless')\n",
    "opt.add_argument(\"--disable-infobars\")\n",
    "opt.add_argument(\"start-maximized\")\n",
    "opt.add_argument(\"--disable-extensions\")\n",
    "opt.add_experimental_option(\"prefs\", {\\\n",
    "    \"profile.default_content_setting_values.notifications\":1\n",
    "    })\n",
    "opt.add_argument('--disable-gpu')\n",
    "opt.add_experimental_option(\"excludeSwitches\", [\"enable-automation\"])\n",
    "opt.add_experimental_option('useAutomationExtension', False)\n"
   ]
  },
  {
   "cell_type": "code",
   "execution_count": 3,
   "id": "7a087a26-1691-45c8-a216-12a239506d9f",
   "metadata": {},
   "outputs": [],
   "source": [
    "# options = webdriver.ChromeOptions()\n",
    "# driver = webdriver.Chrome(ChromeDriverManager().install(),options= options)\n",
    "driver = webdriver.Chrome(service=ChromeService(ChromeDriverManager().install()))\n"
   ]
  },
  {
   "cell_type": "code",
   "execution_count": 14,
   "id": "afae59c2-6cb4-418e-90db-22af88211d03",
   "metadata": {},
   "outputs": [],
   "source": [
    "\n",
    "driver.get(\"https://www.google.com/maps\")\n"
   ]
  },
  {
   "cell_type": "code",
   "execution_count": 15,
   "id": "57b99215-b4cb-4e44-96eb-b21827ac1b02",
   "metadata": {},
   "outputs": [
    {
     "ename": "NoSuchElementException",
     "evalue": "Message: no such element: Unable to locate element: {\"method\":\"css selector\",\"selector\":\"[id=\"searchboxinput\"]\"}\n  (Session info: chrome=120.0.6099.225); For documentation on this error, please visit: https://www.selenium.dev/documentation/webdriver/troubleshooting/errors#no-such-element-exception\nStacktrace:\n\tGetHandleVerifier [0x00836EE3+174339]\n\t(No symbol) [0x00760A51]\n\t(No symbol) [0x00476FF6]\n\t(No symbol) [0x004A9876]\n\t(No symbol) [0x004A9C2C]\n\t(No symbol) [0x004DBD42]\n\t(No symbol) [0x004C7054]\n\t(No symbol) [0x004DA104]\n\t(No symbol) [0x004C6DA6]\n\t(No symbol) [0x004A1034]\n\t(No symbol) [0x004A1F8D]\n\tGetHandleVerifier [0x008D4B1C+820540]\n\tsqlite3_dbdata_init [0x009953EE+653550]\n\tsqlite3_dbdata_init [0x00994E09+652041]\n\tsqlite3_dbdata_init [0x009897CC+605388]\n\tsqlite3_dbdata_init [0x00995D9B+656027]\n\t(No symbol) [0x0076FE6C]\n\t(No symbol) [0x007683B8]\n\t(No symbol) [0x007684DD]\n\t(No symbol) [0x00755818]\n\tBaseThreadInitThunk [0x76CE7BA9+25]\n\tRtlInitializeExceptionChain [0x7769BD2B+107]\n\tRtlClearBits [0x7769BCAF+191]\n",
     "output_type": "error",
     "traceback": [
      "\u001b[1;31m---------------------------------------------------------------------------\u001b[0m",
      "\u001b[1;31mNoSuchElementException\u001b[0m                    Traceback (most recent call last)",
      "Cell \u001b[1;32mIn[15], line 1\u001b[0m\n\u001b[1;32m----> 1\u001b[0m seach_bar\u001b[38;5;241m=\u001b[39m \u001b[43mdriver\u001b[49m\u001b[38;5;241;43m.\u001b[39;49m\u001b[43mfind_element\u001b[49m\u001b[43m(\u001b[49m\u001b[43mBy\u001b[49m\u001b[38;5;241;43m.\u001b[39;49m\u001b[43mID\u001b[49m\u001b[43m,\u001b[49m\u001b[43m \u001b[49m\u001b[38;5;124;43m\"\u001b[39;49m\u001b[38;5;124;43msearchboxinput\u001b[39;49m\u001b[38;5;124;43m\"\u001b[39;49m\u001b[43m)\u001b[49m\n\u001b[0;32m      2\u001b[0m seach_bar\u001b[38;5;241m.\u001b[39msend_keys(\u001b[38;5;124m\"\u001b[39m\u001b[38;5;124mdoctors in gurgaon\u001b[39m\u001b[38;5;124m\"\u001b[39m)\n\u001b[0;32m      3\u001b[0m \u001b[38;5;66;03m# seach_bar.submit()\u001b[39;00m\n\u001b[0;32m      4\u001b[0m \u001b[38;5;66;03m# target_url = \"https://vahan.parivahan.gov.in/nrservices/faces/user/citizen/citizenlogin.xhtml\"\u001b[39;00m\n\u001b[0;32m      5\u001b[0m \u001b[38;5;66;03m# href = link.get_attribute(\"href\")\u001b[39;00m\n",
      "File \u001b[1;32m~\\AppData\\Local\\Packages\\PythonSoftwareFoundation.Python.3.11_qbz5n2kfra8p0\\LocalCache\\local-packages\\Python311\\site-packages\\selenium\\webdriver\\remote\\webdriver.py:741\u001b[0m, in \u001b[0;36mWebDriver.find_element\u001b[1;34m(self, by, value)\u001b[0m\n\u001b[0;32m    738\u001b[0m     by \u001b[38;5;241m=\u001b[39m By\u001b[38;5;241m.\u001b[39mCSS_SELECTOR\n\u001b[0;32m    739\u001b[0m     value \u001b[38;5;241m=\u001b[39m \u001b[38;5;124mf\u001b[39m\u001b[38;5;124m'\u001b[39m\u001b[38;5;124m[name=\u001b[39m\u001b[38;5;124m\"\u001b[39m\u001b[38;5;132;01m{\u001b[39;00mvalue\u001b[38;5;132;01m}\u001b[39;00m\u001b[38;5;124m\"\u001b[39m\u001b[38;5;124m]\u001b[39m\u001b[38;5;124m'\u001b[39m\n\u001b[1;32m--> 741\u001b[0m \u001b[38;5;28;01mreturn\u001b[39;00m \u001b[38;5;28;43mself\u001b[39;49m\u001b[38;5;241;43m.\u001b[39;49m\u001b[43mexecute\u001b[49m\u001b[43m(\u001b[49m\u001b[43mCommand\u001b[49m\u001b[38;5;241;43m.\u001b[39;49m\u001b[43mFIND_ELEMENT\u001b[49m\u001b[43m,\u001b[49m\u001b[43m \u001b[49m\u001b[43m{\u001b[49m\u001b[38;5;124;43m\"\u001b[39;49m\u001b[38;5;124;43musing\u001b[39;49m\u001b[38;5;124;43m\"\u001b[39;49m\u001b[43m:\u001b[49m\u001b[43m \u001b[49m\u001b[43mby\u001b[49m\u001b[43m,\u001b[49m\u001b[43m \u001b[49m\u001b[38;5;124;43m\"\u001b[39;49m\u001b[38;5;124;43mvalue\u001b[39;49m\u001b[38;5;124;43m\"\u001b[39;49m\u001b[43m:\u001b[49m\u001b[43m \u001b[49m\u001b[43mvalue\u001b[49m\u001b[43m}\u001b[49m\u001b[43m)\u001b[49m[\u001b[38;5;124m\"\u001b[39m\u001b[38;5;124mvalue\u001b[39m\u001b[38;5;124m\"\u001b[39m]\n",
      "File \u001b[1;32m~\\AppData\\Local\\Packages\\PythonSoftwareFoundation.Python.3.11_qbz5n2kfra8p0\\LocalCache\\local-packages\\Python311\\site-packages\\selenium\\webdriver\\remote\\webdriver.py:347\u001b[0m, in \u001b[0;36mWebDriver.execute\u001b[1;34m(self, driver_command, params)\u001b[0m\n\u001b[0;32m    345\u001b[0m response \u001b[38;5;241m=\u001b[39m \u001b[38;5;28mself\u001b[39m\u001b[38;5;241m.\u001b[39mcommand_executor\u001b[38;5;241m.\u001b[39mexecute(driver_command, params)\n\u001b[0;32m    346\u001b[0m \u001b[38;5;28;01mif\u001b[39;00m response:\n\u001b[1;32m--> 347\u001b[0m     \u001b[38;5;28;43mself\u001b[39;49m\u001b[38;5;241;43m.\u001b[39;49m\u001b[43merror_handler\u001b[49m\u001b[38;5;241;43m.\u001b[39;49m\u001b[43mcheck_response\u001b[49m\u001b[43m(\u001b[49m\u001b[43mresponse\u001b[49m\u001b[43m)\u001b[49m\n\u001b[0;32m    348\u001b[0m     response[\u001b[38;5;124m\"\u001b[39m\u001b[38;5;124mvalue\u001b[39m\u001b[38;5;124m\"\u001b[39m] \u001b[38;5;241m=\u001b[39m \u001b[38;5;28mself\u001b[39m\u001b[38;5;241m.\u001b[39m_unwrap_value(response\u001b[38;5;241m.\u001b[39mget(\u001b[38;5;124m\"\u001b[39m\u001b[38;5;124mvalue\u001b[39m\u001b[38;5;124m\"\u001b[39m, \u001b[38;5;28;01mNone\u001b[39;00m))\n\u001b[0;32m    349\u001b[0m     \u001b[38;5;28;01mreturn\u001b[39;00m response\n",
      "File \u001b[1;32m~\\AppData\\Local\\Packages\\PythonSoftwareFoundation.Python.3.11_qbz5n2kfra8p0\\LocalCache\\local-packages\\Python311\\site-packages\\selenium\\webdriver\\remote\\errorhandler.py:229\u001b[0m, in \u001b[0;36mErrorHandler.check_response\u001b[1;34m(self, response)\u001b[0m\n\u001b[0;32m    227\u001b[0m         alert_text \u001b[38;5;241m=\u001b[39m value[\u001b[38;5;124m\"\u001b[39m\u001b[38;5;124malert\u001b[39m\u001b[38;5;124m\"\u001b[39m]\u001b[38;5;241m.\u001b[39mget(\u001b[38;5;124m\"\u001b[39m\u001b[38;5;124mtext\u001b[39m\u001b[38;5;124m\"\u001b[39m)\n\u001b[0;32m    228\u001b[0m     \u001b[38;5;28;01mraise\u001b[39;00m exception_class(message, screen, stacktrace, alert_text)  \u001b[38;5;66;03m# type: ignore[call-arg]  # mypy is not smart enough here\u001b[39;00m\n\u001b[1;32m--> 229\u001b[0m \u001b[38;5;28;01mraise\u001b[39;00m exception_class(message, screen, stacktrace)\n",
      "\u001b[1;31mNoSuchElementException\u001b[0m: Message: no such element: Unable to locate element: {\"method\":\"css selector\",\"selector\":\"[id=\"searchboxinput\"]\"}\n  (Session info: chrome=120.0.6099.225); For documentation on this error, please visit: https://www.selenium.dev/documentation/webdriver/troubleshooting/errors#no-such-element-exception\nStacktrace:\n\tGetHandleVerifier [0x00836EE3+174339]\n\t(No symbol) [0x00760A51]\n\t(No symbol) [0x00476FF6]\n\t(No symbol) [0x004A9876]\n\t(No symbol) [0x004A9C2C]\n\t(No symbol) [0x004DBD42]\n\t(No symbol) [0x004C7054]\n\t(No symbol) [0x004DA104]\n\t(No symbol) [0x004C6DA6]\n\t(No symbol) [0x004A1034]\n\t(No symbol) [0x004A1F8D]\n\tGetHandleVerifier [0x008D4B1C+820540]\n\tsqlite3_dbdata_init [0x009953EE+653550]\n\tsqlite3_dbdata_init [0x00994E09+652041]\n\tsqlite3_dbdata_init [0x009897CC+605388]\n\tsqlite3_dbdata_init [0x00995D9B+656027]\n\t(No symbol) [0x0076FE6C]\n\t(No symbol) [0x007683B8]\n\t(No symbol) [0x007684DD]\n\t(No symbol) [0x00755818]\n\tBaseThreadInitThunk [0x76CE7BA9+25]\n\tRtlInitializeExceptionChain [0x7769BD2B+107]\n\tRtlClearBits [0x7769BCAF+191]\n"
     ]
    }
   ],
   "source": [
    "seach_bar= driver.find_element(By.ID, \"searchboxinput\")\n",
    "seach_bar.send_keys(\"doctors in gurgaon\")\n",
    "# seach_bar.submit()\n",
    "# target_url = \"https://vahan.parivahan.gov.in/nrservices/faces/user/citizen/citizenlogin.xhtml\"\n",
    "# href = link.get_attribute(\"href\")"
   ]
  },
  {
   "cell_type": "code",
   "execution_count": 8,
   "id": "987d4ef9-8497-4fbb-8d4f-179db385f325",
   "metadata": {},
   "outputs": [],
   "source": [
    "# seach_bar.submit()\n"
   ]
  },
  {
   "cell_type": "code",
   "execution_count": 9,
   "id": "53d7c370-86bc-422d-bc6f-02d9a4f141b6",
   "metadata": {},
   "outputs": [],
   "source": [
    "driver.find_element(By.ID, \"searchbox-searchbutton\").click()\n",
    "time.sleep(5)"
   ]
  },
  {
   "cell_type": "code",
   "execution_count": 8,
   "id": "5d2e50ec-28bc-4b6e-ab71-5a065cc110b0",
   "metadata": {},
   "outputs": [],
   "source": [
    "# driver.execute_script(\"return document.body.scrollHeight\")\n",
    "driver.execute_script(\"window.scrollTo(0,document.body.scrollHeight)\")\n"
   ]
  },
  {
   "cell_type": "code",
   "execution_count": 10,
   "id": "62c0ef6b-480d-42ac-99b7-3dee4c4f4f8a",
   "metadata": {},
   "outputs": [],
   "source": [
    "# name = driver.find_elements(By.CLASS_NAME,'NrDZNb') \n",
    "# number= driver.find_elements(By.CLASS_NAME,'UsdlK') \n",
    "campaign_file = pd.DataFrame(columns=['name', 'phone','rating','address'])\n",
    "total_elements = driver.find_elements(By.CLASS_NAME,\"lI9IFe \")\n",
    "for i in range(len(total_elements)):\n",
    "    try:\n",
    "        name = total_elements[i].find_elements(By.CLASS_NAME,'NrDZNb')[0].text\n",
    "    except:\n",
    "        pass\n",
    "    try:\n",
    "        phone = total_elements[i].find_elements(By.CLASS_NAME,'UsdlK')[0].text\n",
    "    except:\n",
    "        pass\n",
    "    try:\n",
    "        rating = total_elements[i].find_elements(By.CLASS_NAME,'W4Efsd')[0].text\n",
    "    except:\n",
    "        pass\n",
    "    try:\n",
    "        address = total_elements[i].find_elements(By.CLASS_NAME,'W4Efsd')[2].text\n",
    "    except:\n",
    "        pass\n",
    "    temp_df = pd.DataFrame({'name':[name], 'phone':[phone],'rating':[rating],'address':[address]})\n",
    "            # temp_df.set_index('sent_time')\n",
    "\n",
    "    campaign_file=pd.concat([campaign_file,temp_df],  ignore_index=True)\n",
    "\n",
    "    # print(str(name)+' | '+str(phone)+' | '+str(rating)+' | '+str(address))    \n",
    "# driver.find_elements(By.CLASS_NAME,\"lI9IFe \")[0].find_elements(By.CLASS_NAME,'UsdlK')[0].text"
   ]
  },
  {
   "cell_type": "code",
   "execution_count": 60,
   "id": "21ff5086-0c59-4f9e-803c-20d1b3fc6c85",
   "metadata": {},
   "outputs": [],
   "source": [
    "# driver.execute_script('window.scrollBy(0, 1000)') \n",
    "# SCROLL_PAUSE_TIME = 0.5\n",
    "\n",
    "# ActionChains(driver).scroll_by_amount(10, 20).perform()\n",
    "# # Get scroll height\n",
    "# last_height = driver.execute_script(\"return document.body.scrollHeight\")\n",
    "\n",
    "# # while True:\n",
    "# #     # Scroll down to bottom\n",
    "# #     driver.execute_script(\"window.scrollTo(0, document.body.scrollHeight);\")\n",
    "\n",
    "# #     # Wait to load page\n",
    "# #     time.sleep(SCROLL_PAUSE_TIME)\n",
    "\n",
    "# #     # Calculate new scroll height and compare with last scroll height\n",
    "# #     new_height = driver.execute_script(\"return document.body.scrollHeight\")\n",
    "# #     if new_height == last_height:\n",
    "# #         break\n",
    "# #     last_height = new_height"
   ]
  },
  {
   "cell_type": "code",
   "execution_count": 43,
   "id": "5dc93c46-5282-4bdd-89f1-52ccca8c2ad1",
   "metadata": {},
   "outputs": [],
   "source": [
    "# driver.execute_script(\"window.scrollTo(0, 10080)\")\n",
    "# # "
   ]
  },
  {
   "cell_type": "code",
   "execution_count": 48,
   "id": "7cbe8125-d714-4ac6-9f17-baaf0715297f",
   "metadata": {},
   "outputs": [],
   "source": [
    "# driver.execute_script(\"window.scrollTo(0, document.body.scrollHeight);\")"
   ]
  },
  {
   "cell_type": "code",
   "execution_count": 45,
   "id": "f9bdfdc4-5c9a-46e4-8d84-b2cf4671548a",
   "metadata": {},
   "outputs": [],
   "source": [
    "# driver.find_elements(By.CLASS_NAME,\"lI9IFe \")[0].find_elements(By.CLASS_NAME,'UsdlK')[0].text"
   ]
  },
  {
   "cell_type": "code",
   "execution_count": 39,
   "id": "c389dd66-5490-4151-b1de-f6bbd7a217b3",
   "metadata": {},
   "outputs": [],
   "source": [
    "# a = driver.execute_script(\"window.scrollTo(10, document.body.scrollHeight);\")"
   ]
  },
  {
   "cell_type": "code",
   "execution_count": 40,
   "id": "7b1adba9-8894-48e8-aaf2-adaf151e68c0",
   "metadata": {},
   "outputs": [],
   "source": [
    "# driver.execute_script(\"return document.body.scrollHeight\")"
   ]
  },
  {
   "cell_type": "code",
   "execution_count": 14,
   "id": "6e773c82-af4e-413d-906f-07091c921897",
   "metadata": {},
   "outputs": [],
   "source": [
    "# driver.execute_script(\"return document.body.scrollHeight\")"
   ]
  },
  {
   "cell_type": "code",
   "execution_count": 15,
   "id": "e03f3fcf-5422-458b-9d3e-7d5b49b55a4c",
   "metadata": {},
   "outputs": [],
   "source": [
    "# driver.execute_script(\"return document.body.scrollTop\")\n"
   ]
  },
  {
   "cell_type": "code",
   "execution_count": 16,
   "id": "0bddf99e-7f84-4f0c-a07a-91fb805207ed",
   "metadata": {},
   "outputs": [],
   "source": [
    "# driver.get_property(cards[2])"
   ]
  },
  {
   "cell_type": "code",
   "execution_count": 33,
   "id": "b7ba3ea0-ba59-4f09-b8df-238f9f80f89c",
   "metadata": {},
   "outputs": [],
   "source": [
    "from selenium import webdriver\n",
    "# create webdriver instance\n",
    "# driver = webdriver.Chrome('/path/to/chromedriver')\n",
    "# navigate to page\n",
    "# driver.get('https://example.com')\n",
    "# scroll down to the bottom of the page\n",
    "while True:\n",
    "# scroll down 1000 pixels\n",
    "    driver.execute_script('window.scrollBy(0, 1000)')\n",
    "# wait for page to load\n",
    "    time.sleep(2)\n",
    "# check if at bottom of page\n",
    "    if driver.execute_script('return window.innerHeight + window.pageYOffset >= document.body.offsetHeight'):\n",
    "        \n",
    "        break\n",
    "# close webdriver\n",
    "# driver.quit()\n",
    "\n"
   ]
  },
  {
   "cell_type": "code",
   "execution_count": 53,
   "id": "05447de9-317f-40de-94ab-0a2b2cf79504",
   "metadata": {},
   "outputs": [],
   "source": [
    "from selenium.webdriver.common.keys import Keys\n",
    "elem = driver.find_element(By.TAG_NAME, \"html\")\n",
    "elem.send_keys(Keys.END)"
   ]
  },
  {
   "cell_type": "code",
   "execution_count": 55,
   "id": "effc3e09-569e-4141-846e-0a02dd7049c5",
   "metadata": {},
   "outputs": [
    {
     "data": {
      "text/plain": [
       "\"\\ue8b6\\n\\ue838\\nRating\\n\\ue8b5\\nHours\\n\\ue429\\nAll filters\\nSaved\\nRecents\\nResults\\n\\nDr. Nitin Saluja - Best Doctor in Gurgaon / Best General Physician in Gurgaon\\n4.9(96)\\nDoctor · Sidhya Clinic, S 131, Deerwood Chase\\nOpen 24 hours · 098711 08211\\nWebsite\\nDirections\\nDr. Vishwas Pahuja General physician in Gurgaon\\n4.5(8)\\nGeneral practitioner · 301, 21, Street Number 5\\nOpen ⋅ Closes 9\\u202fpm\\nWebsite\\nDirections\\nDr.Dharmendra Physician and Gynae Clinic\\n4.9(8)\\nDoctor · Shop no 57, Kamla Market, Khandsa Rd, near Nangia Hospital\\nOpen ⋅ Closes 8\\u202fpm · 099100 61615\\nDirections\\nDr. Sourav Dey Shah - General Physician..CRITICAL CARE\\n5.0(10)\\nDoctor · IAS Medicare Hospital, Khandsa Rd, near Anaj Mandi\\nOpen ⋅ Closes 8\\u202fpm · 062943 98703\\nDirections\\nDr. Ashok Jain's Clinic\\n5.0(8)\\nDoctor · 272, New Colony Rd\\nOpen ⋅ Closes 9\\u202fpm · 098107 32787\\nWebsite\\nDirections\\nDr. Shantanu chopra- General Physician in Gurgaon\\n3.7(6)\\nGeneral practitioner · C-1905\\nOpen ⋅ Closes 9\\u202fpm\\nWebsite\\nDirections\\nUpdate results when map moves\\nSign in\\n\\ue53b Layers\\nMap data ©2024 IndiaTermsPrivacySend Product Feedback\\n500 m\""
      ]
     },
     "execution_count": 55,
     "metadata": {},
     "output_type": "execute_result"
    }
   ],
   "source": [
    "elem.text"
   ]
  },
  {
   "cell_type": "code",
   "execution_count": 63,
   "id": "014c3f9b-bbf4-4a2f-86b2-dd9a79bbc686",
   "metadata": {},
   "outputs": [],
   "source": [
    "\n",
    "from selenium import webdriver\n",
    "import time\n",
    "from webdriver_manager.chrome import ChromeDriverManager\n",
    " \n",
    "# create instance of Chrome webdriver\n",
    "driver=webdriver.Chrome(service=ChromeService(ChromeDriverManager().install()))\n",
    " \n",
    "#url\n",
    "driver.get(\"https://www.countries-ofthe-world.com/flags-of-the-world.html\")\n",
    " \n",
    "#maximize window\n",
    "driver.maximize_window()\n",
    " \n",
    "#scroll by pixel\n",
    "# driver.execute_script(\"window.scrollBy(0,2000)\",\"\")\n",
    "time.sleep(4)"
   ]
  },
  {
   "cell_type": "code",
   "execution_count": 66,
   "id": "db9f5875-0e79-49b4-8753-21110e8003bd",
   "metadata": {},
   "outputs": [],
   "source": [
    "driver.execute_script(\"window.scrollBy(0,2000)\",\"\")"
   ]
  },
  {
   "cell_type": "code",
   "execution_count": null,
   "id": "159360b7-5d49-4f50-ba35-1698019d14c3",
   "metadata": {},
   "outputs": [],
   "source": []
  },
  {
   "cell_type": "code",
   "execution_count": 10,
   "id": "404d75a9-1611-4956-b749-2e9cbe7b444d",
   "metadata": {},
   "outputs": [
    {
     "ename": "NameError",
     "evalue": "name 'name' is not defined",
     "output_type": "error",
     "traceback": [
      "\u001b[1;31m---------------------------------------------------------------------------\u001b[0m",
      "\u001b[1;31mNameError\u001b[0m                                 Traceback (most recent call last)",
      "Cell \u001b[1;32mIn[10], line 1\u001b[0m\n\u001b[1;32m----> 1\u001b[0m \u001b[38;5;28mprint\u001b[39m(\u001b[38;5;28mstr\u001b[39m(\u001b[43mname\u001b[49m)\u001b[38;5;241m+\u001b[39m\u001b[38;5;124m'\u001b[39m\u001b[38;5;124m | \u001b[39m\u001b[38;5;124m'\u001b[39m\u001b[38;5;241m+\u001b[39m\u001b[38;5;28mstr\u001b[39m(phone)\u001b[38;5;241m+\u001b[39m\u001b[38;5;124m'\u001b[39m\u001b[38;5;124m | \u001b[39m\u001b[38;5;124m'\u001b[39m\u001b[38;5;241m+\u001b[39m\u001b[38;5;28mstr\u001b[39m(rating)\u001b[38;5;241m+\u001b[39m\u001b[38;5;124m'\u001b[39m\u001b[38;5;124m | \u001b[39m\u001b[38;5;124m'\u001b[39m\u001b[38;5;241m+\u001b[39m\u001b[38;5;28mstr\u001b[39m(address))\n",
      "\u001b[1;31mNameError\u001b[0m: name 'name' is not defined"
     ]
    }
   ],
   "source": [
    "print(str(name)+' | '+str(phone)+' | '+str(rating)+' | '+str(address))"
   ]
  },
  {
   "cell_type": "code",
   "execution_count": 11,
   "id": "2952a68a-199f-444d-92ac-49fa6fe64610",
   "metadata": {},
   "outputs": [
    {
     "data": {
      "text/plain": [
       "120"
      ]
     },
     "execution_count": 11,
     "metadata": {},
     "output_type": "execute_result"
    }
   ],
   "source": [
    "len(campaign_file)"
   ]
  },
  {
   "cell_type": "code",
   "execution_count": 12,
   "id": "309a4c50-23d2-4b56-b732-db6c461dd802",
   "metadata": {},
   "outputs": [
    {
     "data": {
      "text/html": [
       "<div>\n",
       "<style scoped>\n",
       "    .dataframe tbody tr th:only-of-type {\n",
       "        vertical-align: middle;\n",
       "    }\n",
       "\n",
       "    .dataframe tbody tr th {\n",
       "        vertical-align: top;\n",
       "    }\n",
       "\n",
       "    .dataframe thead th {\n",
       "        text-align: right;\n",
       "    }\n",
       "</style>\n",
       "<table border=\"1\" class=\"dataframe\">\n",
       "  <thead>\n",
       "    <tr style=\"text-align: right;\">\n",
       "      <th></th>\n",
       "      <th>name</th>\n",
       "      <th>phone</th>\n",
       "      <th>rating</th>\n",
       "      <th>address</th>\n",
       "    </tr>\n",
       "  </thead>\n",
       "  <tbody>\n",
       "    <tr>\n",
       "      <th>0</th>\n",
       "      <td>Dr. Nitin Saluja - Best Doctor in Gurgaon / Be...</td>\n",
       "      <td>098711 08211</td>\n",
       "      <td>4.9(99)</td>\n",
       "      <td>Doctor · Sidhya Clinic, S 131, Deerwood Chase</td>\n",
       "    </tr>\n",
       "    <tr>\n",
       "      <th>1</th>\n",
       "      <td>Dr. Deepika Kaushik - 32 yrs of exp | MBBS, PG...</td>\n",
       "      <td>099100 33190</td>\n",
       "      <td>3.5(11)</td>\n",
       "      <td>Doctor · B-23, Ground Floor, Market, near B Block</td>\n",
       "    </tr>\n",
       "    <tr>\n",
       "      <th>2</th>\n",
       "      <td>Dr. Rashmi Tarachandani - General Physicians N...</td>\n",
       "      <td>088009 36800</td>\n",
       "      <td>4.5(22)</td>\n",
       "      <td>General practitioner · C-29, Nirvana Courtyard</td>\n",
       "    </tr>\n",
       "    <tr>\n",
       "      <th>3</th>\n",
       "      <td>Dr Veena Mattu,General Physician in Gurgaon,Be...</td>\n",
       "      <td>098105 05234</td>\n",
       "      <td>4.4(31)</td>\n",
       "      <td>Doctor · Ground Floor, Vatika First India Plac...</td>\n",
       "    </tr>\n",
       "    <tr>\n",
       "      <th>4</th>\n",
       "      <td>Asha Multi Speciality</td>\n",
       "      <td>099998 88555</td>\n",
       "      <td>4.7(1,398)</td>\n",
       "      <td>Medical clinic · C-2, HUDA Market Road Vigyan ...</td>\n",
       "    </tr>\n",
       "    <tr>\n",
       "      <th>...</th>\n",
       "      <td>...</td>\n",
       "      <td>...</td>\n",
       "      <td>...</td>\n",
       "      <td>...</td>\n",
       "    </tr>\n",
       "    <tr>\n",
       "      <th>115</th>\n",
       "      <td>Dr .Rajeev Goyal |Best Neurologist In Gurugram</td>\n",
       "      <td>0124 483 4574</td>\n",
       "      <td>5.0(2)</td>\n",
       "      <td>Doctor · CH Baktawar Singh Rd</td>\n",
       "    </tr>\n",
       "    <tr>\n",
       "      <th>116</th>\n",
       "      <td>Sai Siddhi Hospital- Best Urology Hospital | C...</td>\n",
       "      <td>097171 89900</td>\n",
       "      <td>4.7(552)</td>\n",
       "      <td>Hospital · 82-P</td>\n",
       "    </tr>\n",
       "    <tr>\n",
       "      <th>117</th>\n",
       "      <td>Dr Parjeet Kaur</td>\n",
       "      <td>099102 44825</td>\n",
       "      <td>4.9(32)</td>\n",
       "      <td>Endocrinologist · Medanta ColonyCH Baktawar Si...</td>\n",
       "    </tr>\n",
       "    <tr>\n",
       "      <th>118</th>\n",
       "      <td>Dr. M.A Mir</td>\n",
       "      <td>098101 20461</td>\n",
       "      <td>4.6(16)</td>\n",
       "      <td>Gastroenterologist · Shop - 16 (2nd Floor, F B...</td>\n",
       "    </tr>\n",
       "    <tr>\n",
       "      <th>119</th>\n",
       "      <td>Dr. Pankaj Wadhwa | Best Urologist &amp; Andrologi...</td>\n",
       "      <td>0124 483 4574</td>\n",
       "      <td>5.0(3)</td>\n",
       "      <td>Doctor · CH Baktawar Singh Rd</td>\n",
       "    </tr>\n",
       "  </tbody>\n",
       "</table>\n",
       "<p>120 rows × 4 columns</p>\n",
       "</div>"
      ],
      "text/plain": [
       "                                                  name          phone  \\\n",
       "0    Dr. Nitin Saluja - Best Doctor in Gurgaon / Be...   098711 08211   \n",
       "1    Dr. Deepika Kaushik - 32 yrs of exp | MBBS, PG...   099100 33190   \n",
       "2    Dr. Rashmi Tarachandani - General Physicians N...   088009 36800   \n",
       "3    Dr Veena Mattu,General Physician in Gurgaon,Be...   098105 05234   \n",
       "4                                Asha Multi Speciality   099998 88555   \n",
       "..                                                 ...            ...   \n",
       "115     Dr .Rajeev Goyal |Best Neurologist In Gurugram  0124 483 4574   \n",
       "116  Sai Siddhi Hospital- Best Urology Hospital | C...   097171 89900   \n",
       "117                                    Dr Parjeet Kaur   099102 44825   \n",
       "118                                        Dr. M.A Mir   098101 20461   \n",
       "119  Dr. Pankaj Wadhwa | Best Urologist & Andrologi...  0124 483 4574   \n",
       "\n",
       "         rating                                            address  \n",
       "0       4.9(99)      Doctor · Sidhya Clinic, S 131, Deerwood Chase  \n",
       "1       3.5(11)  Doctor · B-23, Ground Floor, Market, near B Block  \n",
       "2       4.5(22)     General practitioner · C-29, Nirvana Courtyard  \n",
       "3       4.4(31)  Doctor · Ground Floor, Vatika First India Plac...  \n",
       "4    4.7(1,398)  Medical clinic · C-2, HUDA Market Road Vigyan ...  \n",
       "..          ...                                                ...  \n",
       "115      5.0(2)                      Doctor · CH Baktawar Singh Rd  \n",
       "116    4.7(552)                                    Hospital · 82-P  \n",
       "117     4.9(32)  Endocrinologist · Medanta ColonyCH Baktawar Si...  \n",
       "118     4.6(16)  Gastroenterologist · Shop - 16 (2nd Floor, F B...  \n",
       "119      5.0(3)                      Doctor · CH Baktawar Singh Rd  \n",
       "\n",
       "[120 rows x 4 columns]"
      ]
     },
     "execution_count": 12,
     "metadata": {},
     "output_type": "execute_result"
    }
   ],
   "source": [
    "campaign_file"
   ]
  },
  {
   "cell_type": "code",
   "execution_count": 13,
   "id": "177bd2c9-35e8-4e3c-ba45-aa9628e4f6cc",
   "metadata": {},
   "outputs": [],
   "source": [
    "campaign_file.to_csv('gmb_search.csv')"
   ]
  },
  {
   "cell_type": "code",
   "execution_count": null,
   "id": "b66dce29-b2af-4985-ab38-d5b35132cf5f",
   "metadata": {},
   "outputs": [],
   "source": []
  }
 ],
 "metadata": {
  "kernelspec": {
   "display_name": "Python 3 (ipykernel)",
   "language": "python",
   "name": "python3"
  },
  "language_info": {
   "codemirror_mode": {
    "name": "ipython",
    "version": 3
   },
   "file_extension": ".py",
   "mimetype": "text/x-python",
   "name": "python",
   "nbconvert_exporter": "python",
   "pygments_lexer": "ipython3",
   "version": "3.11.7"
  }
 },
 "nbformat": 4,
 "nbformat_minor": 5
}
