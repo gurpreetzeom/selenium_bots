{
 "cells": [
  {
   "cell_type": "code",
   "execution_count": 1,
   "id": "c5b0f384-0597-4bf8-be89-6a28660fb090",
   "metadata": {},
   "outputs": [],
   "source": [
    "from selenium import webdriver\n",
    "from selenium.webdriver.common.by import By\n",
    "from selenium.webdriver.support.ui import WebDriverWait\n",
    "from selenium.webdriver.support import expected_conditions as EC\n",
    "import pickle\n",
    "import os.path\n",
    "from googleapiclient import discovery\n",
    "from httplib2 import Http\n",
    "import pandas as pd\n",
    "import numpy as np\n",
    "import datetime as dt\n",
    "import requests\n",
    "import shutil\n",
    "from selenium import webdriver\n",
    "from webdriver_manager.chrome import ChromeDriverManager\n",
    "from selenium.common.exceptions import ElementClickInterceptedException\n",
    "from selenium.webdriver.chrome.service import Service\n",
    "from selenium.webdriver.chrome.options import Options\n",
    "from selenium.webdriver.common.action_chains import ActionChains\n",
    "from selenium.webdriver.common.keys import Keys\n",
    "from selenium.webdriver.chrome.service import Service as ChromeService\n",
    "# Configure the Selenium webdriver\n",
    "\n",
    "import time\n"
   ]
  },
  {
   "cell_type": "code",
   "execution_count": 2,
   "id": "521c30f9-b230-4b22-a7b6-2fd3646714a7",
   "metadata": {},
   "outputs": [],
   "source": [
    "opt = Options()\n",
    "# opt.add_argument('--headless')\n",
    "opt.add_argument(\"--disable-infobars\")\n",
    "opt.add_argument(\"start-maximized\")\n",
    "opt.add_argument(\"--disable-extensions\")\n",
    "opt.add_experimental_option(\"prefs\", {\\\n",
    "    \"profile.default_content_setting_values.notifications\":1\n",
    "    })\n",
    "opt.add_argument('--disable-gpu')\n",
    "opt.add_experimental_option(\"excludeSwitches\", [\"enable-automation\"])\n",
    "opt.add_experimental_option('useAutomationExtension', False)\n"
   ]
  },
  {
   "cell_type": "code",
   "execution_count": 3,
   "id": "7a087a26-1691-45c8-a216-12a239506d9f",
   "metadata": {},
   "outputs": [],
   "source": [
    "# options = webdriver.ChromeOptions()\n",
    "# driver = webdriver.Chrome(ChromeDriverManager().install(),options= options)\n",
    "driver = webdriver.Chrome(service=ChromeService(ChromeDriverManager().install()))\n"
   ]
  },
  {
   "cell_type": "code",
   "execution_count": 4,
   "id": "afae59c2-6cb4-418e-90db-22af88211d03",
   "metadata": {},
   "outputs": [],
   "source": [
    "\n",
    "driver.get(\"https://www.google.com\")\n"
   ]
  },
  {
   "cell_type": "code",
   "execution_count": null,
   "id": "3dabb98e-26e2-437d-a29d-d96ef2f3a325",
   "metadata": {},
   "outputs": [],
   "source": []
  },
  {
   "cell_type": "code",
   "execution_count": 5,
   "id": "57b99215-b4cb-4e44-96eb-b21827ac1b02",
   "metadata": {},
   "outputs": [],
   "source": [
    "seach_bar= driver.find_element(By.CLASS_NAME, \"gLFyf\")\n",
    "seach_bar.send_keys(\"doctors in gurgaon\")\n",
    "seach_bar.submit()\n",
    "# target_url = \"https://vahan.parivahan.gov.in/nrservices/faces/user/citizen/citizenlogin.xhtml\"\n",
    "# href = link.get_attribute(\"href\")"
   ]
  },
  {
   "cell_type": "code",
   "execution_count": 6,
   "id": "987d4ef9-8497-4fbb-8d4f-179db385f325",
   "metadata": {},
   "outputs": [
    {
     "name": "stdout",
     "output_type": "stream",
     "text": [
      "click on more_places\n"
     ]
    }
   ],
   "source": [
    "print( 'click on more_places')\n",
    "driver.find_element(By.XPATH,\"//span[contains(., 'More places')]\").click()"
   ]
  },
  {
   "cell_type": "code",
   "execution_count": 7,
   "id": "5f174433-9db7-4ec9-8fe7-c4c518925ce0",
   "metadata": {},
   "outputs": [
    {
     "ename": "NoSuchElementException",
     "evalue": "Message: no such element: Unable to locate element: {\"method\":\"xpath\",\"selector\":\"//span[contains(., 'More places')]\"}\n  (Session info: chrome=120.0.6099.225); For documentation on this error, please visit: https://www.selenium.dev/documentation/webdriver/troubleshooting/errors#no-such-element-exception\nStacktrace:\n\tGetHandleVerifier [0x00836EE3+174339]\n\t(No symbol) [0x00760A51]\n\t(No symbol) [0x00476FF6]\n\t(No symbol) [0x004A9876]\n\t(No symbol) [0x004A9C2C]\n\t(No symbol) [0x004DBD42]\n\t(No symbol) [0x004C7054]\n\t(No symbol) [0x004DA104]\n\t(No symbol) [0x004C6DA6]\n\t(No symbol) [0x004A1034]\n\t(No symbol) [0x004A1F8D]\n\tGetHandleVerifier [0x008D4B1C+820540]\n\tsqlite3_dbdata_init [0x009953EE+653550]\n\tsqlite3_dbdata_init [0x00994E09+652041]\n\tsqlite3_dbdata_init [0x009897CC+605388]\n\tsqlite3_dbdata_init [0x00995D9B+656027]\n\t(No symbol) [0x0076FE6C]\n\t(No symbol) [0x007683B8]\n\t(No symbol) [0x007684DD]\n\t(No symbol) [0x00755818]\n\tBaseThreadInitThunk [0x76CE7BA9+25]\n\tRtlInitializeExceptionChain [0x7769BD2B+107]\n\tRtlClearBits [0x7769BCAF+191]\n",
     "output_type": "error",
     "traceback": [
      "\u001b[1;31m---------------------------------------------------------------------------\u001b[0m",
      "\u001b[1;31mNoSuchElementException\u001b[0m                    Traceback (most recent call last)",
      "Cell \u001b[1;32mIn[7], line 1\u001b[0m\n\u001b[1;32m----> 1\u001b[0m \u001b[43mdriver\u001b[49m\u001b[38;5;241;43m.\u001b[39;49m\u001b[43mfind_element\u001b[49m\u001b[43m(\u001b[49m\u001b[43mBy\u001b[49m\u001b[38;5;241;43m.\u001b[39;49m\u001b[43mXPATH\u001b[49m\u001b[43m,\u001b[49m\u001b[38;5;124;43m\"\u001b[39;49m\u001b[38;5;124;43m//span[contains(., \u001b[39;49m\u001b[38;5;124;43m'\u001b[39;49m\u001b[38;5;124;43mMore places\u001b[39;49m\u001b[38;5;124;43m'\u001b[39;49m\u001b[38;5;124;43m)]\u001b[39;49m\u001b[38;5;124;43m\"\u001b[39;49m\u001b[43m)\u001b[49m\n",
      "File \u001b[1;32m~\\AppData\\Local\\Packages\\PythonSoftwareFoundation.Python.3.11_qbz5n2kfra8p0\\LocalCache\\local-packages\\Python311\\site-packages\\selenium\\webdriver\\remote\\webdriver.py:741\u001b[0m, in \u001b[0;36mWebDriver.find_element\u001b[1;34m(self, by, value)\u001b[0m\n\u001b[0;32m    738\u001b[0m     by \u001b[38;5;241m=\u001b[39m By\u001b[38;5;241m.\u001b[39mCSS_SELECTOR\n\u001b[0;32m    739\u001b[0m     value \u001b[38;5;241m=\u001b[39m \u001b[38;5;124mf\u001b[39m\u001b[38;5;124m'\u001b[39m\u001b[38;5;124m[name=\u001b[39m\u001b[38;5;124m\"\u001b[39m\u001b[38;5;132;01m{\u001b[39;00mvalue\u001b[38;5;132;01m}\u001b[39;00m\u001b[38;5;124m\"\u001b[39m\u001b[38;5;124m]\u001b[39m\u001b[38;5;124m'\u001b[39m\n\u001b[1;32m--> 741\u001b[0m \u001b[38;5;28;01mreturn\u001b[39;00m \u001b[38;5;28;43mself\u001b[39;49m\u001b[38;5;241;43m.\u001b[39;49m\u001b[43mexecute\u001b[49m\u001b[43m(\u001b[49m\u001b[43mCommand\u001b[49m\u001b[38;5;241;43m.\u001b[39;49m\u001b[43mFIND_ELEMENT\u001b[49m\u001b[43m,\u001b[49m\u001b[43m \u001b[49m\u001b[43m{\u001b[49m\u001b[38;5;124;43m\"\u001b[39;49m\u001b[38;5;124;43musing\u001b[39;49m\u001b[38;5;124;43m\"\u001b[39;49m\u001b[43m:\u001b[49m\u001b[43m \u001b[49m\u001b[43mby\u001b[49m\u001b[43m,\u001b[49m\u001b[43m \u001b[49m\u001b[38;5;124;43m\"\u001b[39;49m\u001b[38;5;124;43mvalue\u001b[39;49m\u001b[38;5;124;43m\"\u001b[39;49m\u001b[43m:\u001b[49m\u001b[43m \u001b[49m\u001b[43mvalue\u001b[49m\u001b[43m}\u001b[49m\u001b[43m)\u001b[49m[\u001b[38;5;124m\"\u001b[39m\u001b[38;5;124mvalue\u001b[39m\u001b[38;5;124m\"\u001b[39m]\n",
      "File \u001b[1;32m~\\AppData\\Local\\Packages\\PythonSoftwareFoundation.Python.3.11_qbz5n2kfra8p0\\LocalCache\\local-packages\\Python311\\site-packages\\selenium\\webdriver\\remote\\webdriver.py:347\u001b[0m, in \u001b[0;36mWebDriver.execute\u001b[1;34m(self, driver_command, params)\u001b[0m\n\u001b[0;32m    345\u001b[0m response \u001b[38;5;241m=\u001b[39m \u001b[38;5;28mself\u001b[39m\u001b[38;5;241m.\u001b[39mcommand_executor\u001b[38;5;241m.\u001b[39mexecute(driver_command, params)\n\u001b[0;32m    346\u001b[0m \u001b[38;5;28;01mif\u001b[39;00m response:\n\u001b[1;32m--> 347\u001b[0m     \u001b[38;5;28;43mself\u001b[39;49m\u001b[38;5;241;43m.\u001b[39;49m\u001b[43merror_handler\u001b[49m\u001b[38;5;241;43m.\u001b[39;49m\u001b[43mcheck_response\u001b[49m\u001b[43m(\u001b[49m\u001b[43mresponse\u001b[49m\u001b[43m)\u001b[49m\n\u001b[0;32m    348\u001b[0m     response[\u001b[38;5;124m\"\u001b[39m\u001b[38;5;124mvalue\u001b[39m\u001b[38;5;124m\"\u001b[39m] \u001b[38;5;241m=\u001b[39m \u001b[38;5;28mself\u001b[39m\u001b[38;5;241m.\u001b[39m_unwrap_value(response\u001b[38;5;241m.\u001b[39mget(\u001b[38;5;124m\"\u001b[39m\u001b[38;5;124mvalue\u001b[39m\u001b[38;5;124m\"\u001b[39m, \u001b[38;5;28;01mNone\u001b[39;00m))\n\u001b[0;32m    349\u001b[0m     \u001b[38;5;28;01mreturn\u001b[39;00m response\n",
      "File \u001b[1;32m~\\AppData\\Local\\Packages\\PythonSoftwareFoundation.Python.3.11_qbz5n2kfra8p0\\LocalCache\\local-packages\\Python311\\site-packages\\selenium\\webdriver\\remote\\errorhandler.py:229\u001b[0m, in \u001b[0;36mErrorHandler.check_response\u001b[1;34m(self, response)\u001b[0m\n\u001b[0;32m    227\u001b[0m         alert_text \u001b[38;5;241m=\u001b[39m value[\u001b[38;5;124m\"\u001b[39m\u001b[38;5;124malert\u001b[39m\u001b[38;5;124m\"\u001b[39m]\u001b[38;5;241m.\u001b[39mget(\u001b[38;5;124m\"\u001b[39m\u001b[38;5;124mtext\u001b[39m\u001b[38;5;124m\"\u001b[39m)\n\u001b[0;32m    228\u001b[0m     \u001b[38;5;28;01mraise\u001b[39;00m exception_class(message, screen, stacktrace, alert_text)  \u001b[38;5;66;03m# type: ignore[call-arg]  # mypy is not smart enough here\u001b[39;00m\n\u001b[1;32m--> 229\u001b[0m \u001b[38;5;28;01mraise\u001b[39;00m exception_class(message, screen, stacktrace)\n",
      "\u001b[1;31mNoSuchElementException\u001b[0m: Message: no such element: Unable to locate element: {\"method\":\"xpath\",\"selector\":\"//span[contains(., 'More places')]\"}\n  (Session info: chrome=120.0.6099.225); For documentation on this error, please visit: https://www.selenium.dev/documentation/webdriver/troubleshooting/errors#no-such-element-exception\nStacktrace:\n\tGetHandleVerifier [0x00836EE3+174339]\n\t(No symbol) [0x00760A51]\n\t(No symbol) [0x00476FF6]\n\t(No symbol) [0x004A9876]\n\t(No symbol) [0x004A9C2C]\n\t(No symbol) [0x004DBD42]\n\t(No symbol) [0x004C7054]\n\t(No symbol) [0x004DA104]\n\t(No symbol) [0x004C6DA6]\n\t(No symbol) [0x004A1034]\n\t(No symbol) [0x004A1F8D]\n\tGetHandleVerifier [0x008D4B1C+820540]\n\tsqlite3_dbdata_init [0x009953EE+653550]\n\tsqlite3_dbdata_init [0x00994E09+652041]\n\tsqlite3_dbdata_init [0x009897CC+605388]\n\tsqlite3_dbdata_init [0x00995D9B+656027]\n\t(No symbol) [0x0076FE6C]\n\t(No symbol) [0x007683B8]\n\t(No symbol) [0x007684DD]\n\t(No symbol) [0x00755818]\n\tBaseThreadInitThunk [0x76CE7BA9+25]\n\tRtlInitializeExceptionChain [0x7769BD2B+107]\n\tRtlClearBits [0x7769BCAF+191]\n"
     ]
    }
   ],
   "source": [
    "# driver.find_element(By.XPATH,\"//span[contains(., 'More places')]\")"
   ]
  },
  {
   "cell_type": "code",
   "execution_count": null,
   "id": "53d7c370-86bc-422d-bc6f-02d9a4f141b6",
   "metadata": {},
   "outputs": [],
   "source": [
    "# driver.find_element(By.ID, \"searchbox-searchbutton\").click()\n",
    "# time.sleep(5)"
   ]
  },
  {
   "cell_type": "code",
   "execution_count": null,
   "id": "5d2e50ec-28bc-4b6e-ab71-5a065cc110b0",
   "metadata": {},
   "outputs": [],
   "source": [
    "# driver.execute_script(\"return document.body.scrollHeight\")\n",
    "# driver.execute_script(\"window.scrollTo(0,document.body.scrollHeight)\")\n"
   ]
  },
  {
   "cell_type": "code",
   "execution_count": 9,
   "id": "62c0ef6b-480d-42ac-99b7-3dee4c4f4f8a",
   "metadata": {},
   "outputs": [],
   "source": [
    "# name = driver.find_elements(By.CLASS_NAME,'NrDZNb') \n",
    "# number= driver.find_elements(By.CLASS_NAME,'UsdlK') \n",
    "data_file = pd.DataFrame(columns=['name', 'phone','address'])\n",
    "while True:\n",
    "    total_elements = driver.find_elements(By.CLASS_NAME,\"rllt__details\")\n",
    "    for i in range(len(total_elements)):\n",
    "        try:\n",
    "            name = total_elements[i].find_element(By.CLASS_NAME,\"OSrXXb\").text.encode('ascii', 'ignore').decode(\"utf-8\")\n",
    "        except:\n",
    "            pass\n",
    "        try:\n",
    "            phone = total_elements[i].find_elements(By.XPATH,\"//div[2]//div//div//a//div//div//div[4]\")[i].text.encode('ascii', 'ignore').decode(\"utf-8\")\n",
    "            phone=phone.replace(' ','')[len(phone.replace(' ',''))-10:]\n",
    "            try:\n",
    "                \n",
    "                type(int(phone))==True\n",
    "                phone=phone\n",
    "            except:\n",
    "                phone=None\n",
    "            \n",
    "        except:\n",
    "            pass\n",
    "        try:\n",
    "            address = total_elements[i].find_elements(By.XPATH,\"//div[2]//div//div//a//div//div//div[3]\")[i].text.encode('ascii', 'ignore').decode(\"utf-8\")\n",
    "        except:\n",
    "            pass\n",
    "        temp_df = pd.DataFrame({'name':[name], 'phone':[phone],'address':[address]})\n",
    "                # temp_df.set_index('sent_time')\n",
    "    \n",
    "        data_file=pd.concat([data_file,temp_df],  ignore_index=True)\n",
    "    time.sleep(3)\n",
    "    try:\n",
    "        driver.find_element(By.XPATH,\"//span[contains(., 'Next')]\").click()\n",
    "    except:\n",
    "        break\n",
    "\n",
    "        # print(str(name)+' | '+str(phone)+' | '+str(rating)+' | '+str(address))    \n",
    "    # driver.find_elements(By.CLASS_NAME,\"lI9IFe \")[0].find_elements(By.CLASS_NAME,'UsdlK')[0].text"
   ]
  },
  {
   "cell_type": "code",
   "execution_count": 12,
   "id": "21ff5086-0c59-4f9e-803c-20d1b3fc6c85",
   "metadata": {},
   "outputs": [],
   "source": [
    "data_file2=data_file\n",
    "data_file.drop_duplicates(inplace=True)"
   ]
  },
  {
   "cell_type": "code",
   "execution_count": 13,
   "id": "5dc93c46-5282-4bdd-89f1-52ccca8c2ad1",
   "metadata": {},
   "outputs": [
    {
     "data": {
      "text/html": [
       "<div>\n",
       "<style scoped>\n",
       "    .dataframe tbody tr th:only-of-type {\n",
       "        vertical-align: middle;\n",
       "    }\n",
       "\n",
       "    .dataframe tbody tr th {\n",
       "        vertical-align: top;\n",
       "    }\n",
       "\n",
       "    .dataframe thead th {\n",
       "        text-align: right;\n",
       "    }\n",
       "</style>\n",
       "<table border=\"1\" class=\"dataframe\">\n",
       "  <thead>\n",
       "    <tr style=\"text-align: right;\">\n",
       "      <th></th>\n",
       "      <th>name</th>\n",
       "      <th>phone</th>\n",
       "      <th>address</th>\n",
       "    </tr>\n",
       "  </thead>\n",
       "  <tbody>\n",
       "    <tr>\n",
       "      <th>0</th>\n",
       "      <td>Skyn Stories by Dr. Meenu Sethi l DLF Phase 1</td>\n",
       "      <td>8130160572</td>\n",
       "      <td>opposite DLF Plaza Tower</td>\n",
       "    </tr>\n",
       "    <tr>\n",
       "      <th>1</th>\n",
       "      <td>Dr. Nitin Saluja - Best Doctor in Gurgaon / Be...</td>\n",
       "      <td>9871108211</td>\n",
       "      <td>3.4 km  Sidhya Clinic, S 131, Deerwood Chase</td>\n",
       "    </tr>\n",
       "    <tr>\n",
       "      <th>2</th>\n",
       "      <td>HARYANA CLINIC - BEST GENERAL PHYSICIAN | SEXO...</td>\n",
       "      <td>9212041171</td>\n",
       "      <td>1.0 km  1538, Jharsa Rd, opposite Krishna Mandir</td>\n",
       "    </tr>\n",
       "    <tr>\n",
       "      <th>3</th>\n",
       "      <td>Asha Multi Speciality</td>\n",
       "      <td>9999888555</td>\n",
       "      <td>2.0 km  C-2, HUDA Market Road Vigyan Vihar</td>\n",
       "    </tr>\n",
       "    <tr>\n",
       "      <th>4</th>\n",
       "      <td>Dr. Vishwas Pahuja General physician in Gurgaon</td>\n",
       "      <td>None</td>\n",
       "      <td>2.2 km  301, 21, Street Number 5</td>\n",
       "    </tr>\n",
       "    <tr>\n",
       "      <th>...</th>\n",
       "      <td>...</td>\n",
       "      <td>...</td>\n",
       "      <td>...</td>\n",
       "    </tr>\n",
       "    <tr>\n",
       "      <th>312</th>\n",
       "      <td>Best General practitioner - Dr. Jyoti | 23+ Yr...</td>\n",
       "      <td>8046961837</td>\n",
       "      <td>6.5 km  2nd Floor, APOLLO SUGAR CLINICS GURUGR...</td>\n",
       "    </tr>\n",
       "    <tr>\n",
       "      <th>313</th>\n",
       "      <td>Dr. Preeti Chauhan</td>\n",
       "      <td>None</td>\n",
       "      <td>2.7 km  1st Floor, 131/12, New Railway Rd, opp...</td>\n",
       "    </tr>\n",
       "    <tr>\n",
       "      <th>314</th>\n",
       "      <td>Dr. Namrata Madan - Lady/ Female Piles Surgeon...</td>\n",
       "      <td>9911447240</td>\n",
       "      <td>3.7 km  Vatsalya child care and surgical centr...</td>\n",
       "    </tr>\n",
       "    <tr>\n",
       "      <th>315</th>\n",
       "      <td>Dr. Shashidhar Shree Niwas Best Nephrologist i...</td>\n",
       "      <td>7062061060</td>\n",
       "      <td>1.1 km  Plot No. 559, First floor, Netaji Subh...</td>\n",
       "    </tr>\n",
       "    <tr>\n",
       "      <th>316</th>\n",
       "      <td>Manipal Hospital, Palam Vihar, Gurugram</td>\n",
       "      <td>1246165666</td>\n",
       "      <td>7.6 km  Gol Chakkar, Carterpuri Rd</td>\n",
       "    </tr>\n",
       "  </tbody>\n",
       "</table>\n",
       "<p>131 rows × 3 columns</p>\n",
       "</div>"
      ],
      "text/plain": [
       "                                                  name       phone  \\\n",
       "0        Skyn Stories by Dr. Meenu Sethi l DLF Phase 1  8130160572   \n",
       "1    Dr. Nitin Saluja - Best Doctor in Gurgaon / Be...  9871108211   \n",
       "2    HARYANA CLINIC - BEST GENERAL PHYSICIAN | SEXO...  9212041171   \n",
       "3                                Asha Multi Speciality  9999888555   \n",
       "4      Dr. Vishwas Pahuja General physician in Gurgaon        None   \n",
       "..                                                 ...         ...   \n",
       "312  Best General practitioner - Dr. Jyoti | 23+ Yr...  8046961837   \n",
       "313                                 Dr. Preeti Chauhan        None   \n",
       "314  Dr. Namrata Madan - Lady/ Female Piles Surgeon...  9911447240   \n",
       "315  Dr. Shashidhar Shree Niwas Best Nephrologist i...  7062061060   \n",
       "316            Manipal Hospital, Palam Vihar, Gurugram  1246165666   \n",
       "\n",
       "                                               address  \n",
       "0                             opposite DLF Plaza Tower  \n",
       "1         3.4 km  Sidhya Clinic, S 131, Deerwood Chase  \n",
       "2     1.0 km  1538, Jharsa Rd, opposite Krishna Mandir  \n",
       "3           2.0 km  C-2, HUDA Market Road Vigyan Vihar  \n",
       "4                     2.2 km  301, 21, Street Number 5  \n",
       "..                                                 ...  \n",
       "312  6.5 km  2nd Floor, APOLLO SUGAR CLINICS GURUGR...  \n",
       "313  2.7 km  1st Floor, 131/12, New Railway Rd, opp...  \n",
       "314  3.7 km  Vatsalya child care and surgical centr...  \n",
       "315  1.1 km  Plot No. 559, First floor, Netaji Subh...  \n",
       "316                 7.6 km  Gol Chakkar, Carterpuri Rd  \n",
       "\n",
       "[131 rows x 3 columns]"
      ]
     },
     "execution_count": 13,
     "metadata": {},
     "output_type": "execute_result"
    }
   ],
   "source": [
    "data_file"
   ]
  },
  {
   "cell_type": "code",
   "execution_count": 14,
   "id": "7cbe8125-d714-4ac6-9f17-baaf0715297f",
   "metadata": {},
   "outputs": [],
   "source": [
    "data_file.to_csv('Dr_in_gurgaon.csv', index= False)"
   ]
  },
  {
   "cell_type": "code",
   "execution_count": null,
   "id": "6f723d64-a41e-4c22-b325-454939477c38",
   "metadata": {},
   "outputs": [],
   "source": []
  }
 ],
 "metadata": {
  "kernelspec": {
   "display_name": "Python 3 (ipykernel)",
   "language": "python",
   "name": "python3"
  },
  "language_info": {
   "codemirror_mode": {
    "name": "ipython",
    "version": 3
   },
   "file_extension": ".py",
   "mimetype": "text/x-python",
   "name": "python",
   "nbconvert_exporter": "python",
   "pygments_lexer": "ipython3",
   "version": "3.11.7"
  }
 },
 "nbformat": 4,
 "nbformat_minor": 5
}
