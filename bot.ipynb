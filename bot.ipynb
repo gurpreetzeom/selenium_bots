{
 "cells": [
  {
   "cell_type": "code",
   "execution_count": 1,
   "id": "c5b0f384-0597-4bf8-be89-6a28660fb090",
   "metadata": {},
   "outputs": [],
   "source": [
    "from selenium import webdriver\n",
    "from selenium.webdriver.common.by import By\n",
    "from selenium.webdriver.support.ui import WebDriverWait\n",
    "from selenium.webdriver.support import expected_conditions as EC\n",
    "import pickle\n",
    "import os.path\n",
    "from googleapiclient import discovery\n",
    "from httplib2 import Http\n",
    "import pandas as pd\n",
    "import numpy as np\n",
    "import datetime as dt\n",
    "import requests\n",
    "import shutil\n",
    "from selenium import webdriver\n",
    "from webdriver_manager.chrome import ChromeDriverManager\n",
    "from selenium.common.exceptions import ElementClickInterceptedException\n",
    "from selenium.webdriver.chrome.service import Service\n",
    "from selenium.webdriver.chrome.options import Options\n",
    "from selenium.webdriver.common.action_chains import ActionChains\n",
    "from selenium.webdriver.common.keys import Keys\n",
    "from selenium.webdriver.chrome.service import Service as ChromeService\n",
    "# Configure the Selenium webdriver\n"
   ]
  },
  {
   "cell_type": "code",
   "execution_count": 2,
   "id": "521c30f9-b230-4b22-a7b6-2fd3646714a7",
   "metadata": {},
   "outputs": [],
   "source": [
    "opt = Options()\n",
    "# opt.add_argument('--headless')\n",
    "opt.add_argument(\"--disable-infobars\")\n",
    "opt.add_argument(\"start-maximized\")\n",
    "opt.add_argument(\"--disable-extensions\")\n",
    "opt.add_experimental_option(\"prefs\", {\\\n",
    "    \"profile.default_content_setting_values.notifications\":1\n",
    "    })\n",
    "opt.add_argument('--disable-gpu')\n",
    "opt.add_experimental_option(\"excludeSwitches\", [\"enable-automation\"])\n",
    "opt.add_experimental_option('useAutomationExtension', False)\n"
   ]
  },
  {
   "cell_type": "code",
   "execution_count": 3,
   "id": "7a087a26-1691-45c8-a216-12a239506d9f",
   "metadata": {},
   "outputs": [],
   "source": [
    "# options = webdriver.ChromeOptions()\n",
    "# driver = webdriver.Chrome(ChromeDriverManager().install(),options= options)\n",
    "driver = webdriver.Chrome(service=ChromeService(ChromeDriverManager().install()))\n"
   ]
  },
  {
   "cell_type": "code",
   "execution_count": 4,
   "id": "afae59c2-6cb4-418e-90db-22af88211d03",
   "metadata": {},
   "outputs": [],
   "source": [
    "\n",
    "driver.get(\"https://vahan.parivahan.gov.in/nrservices/faces/user/citizen/citizenlogin.xhtml\")\n"
   ]
  },
  {
   "cell_type": "code",
   "execution_count": 5,
   "id": "57b99215-b4cb-4e44-96eb-b21827ac1b02",
   "metadata": {},
   "outputs": [],
   "source": [
    "mobile_number= driver.find_element(By.ID, \"TfMOBILENO\")\n",
    "mobile_number.send_keys(9250946303)\n",
    "mobile_number.submit()\n",
    "# target_url = \"https://vahan.parivahan.gov.in/nrservices/faces/user/citizen/citizenlogin.xhtml\"\n",
    "# href = link.get_attribute(\"href\")"
   ]
  },
  {
   "cell_type": "code",
   "execution_count": 6,
   "id": "62c0ef6b-480d-42ac-99b7-3dee4c4f4f8a",
   "metadata": {},
   "outputs": [],
   "source": [
    "next_button= driver.find_elements(By.XPATH,'//span') \n",
    "next_button[0].click()\n",
    "# driver.find_element(By.CSS_SELECTOR,\"# button.name-btRtoLogin\")"
   ]
  },
  {
   "cell_type": "code",
   "execution_count": 7,
   "id": "21ff5086-0c59-4f9e-803c-20d1b3fc6c85",
   "metadata": {},
   "outputs": [],
   "source": [
    "password= driver.find_element(By.ID, \"tfPASSWORD\")\n",
    "password.send_keys('Zeom@123')\n"
   ]
  },
  {
   "cell_type": "code",
   "execution_count": 8,
   "id": "7cbe8125-d714-4ac6-9f17-baaf0715297f",
   "metadata": {},
   "outputs": [],
   "source": [
    "# password.submit()\n",
    "continue_b= driver.find_elements(By.XPATH,'//span') \n",
    "continue_b[0].click()"
   ]
  },
  {
   "cell_type": "code",
   "execution_count": 113,
   "id": "f9bdfdc4-5c9a-46e4-8d84-b2cf4671548a",
   "metadata": {},
   "outputs": [
    {
     "ename": "WebDriverException",
     "evalue": "Message: disconnected: not connected to DevTools\n  (failed to check if window was closed: disconnected: not connected to DevTools)\n  (Session info: chrome=120.0.6099.71)\nStacktrace:\n\tGetHandleVerifier [0x00886E73+174291]\n\t(No symbol) [0x007B0AC1]\n\t(No symbol) [0x004C6FF6]\n\t(No symbol) [0x004B957F]\n\t(No symbol) [0x004B92A2]\n\t(No symbol) [0x004C8B70]\n\t(No symbol) [0x00529F88]\n\t(No symbol) [0x00516DA6]\n\t(No symbol) [0x004F1034]\n\t(No symbol) [0x004F1F8D]\n\tGetHandleVerifier [0x009249CC+820268]\n\tsqlite3_dbdata_init [0x009E4EBE+652494]\n\tsqlite3_dbdata_init [0x009E48D9+650985]\n\tsqlite3_dbdata_init [0x009D962C+605244]\n\tsqlite3_dbdata_init [0x009E586B+654971]\n\t(No symbol) [0x007BFEBC]\n\t(No symbol) [0x007B8428]\n\t(No symbol) [0x007B854D]\n\t(No symbol) [0x007A5858]\n\tBaseThreadInitThunk [0x770F7BA9+25]\n\tRtlInitializeExceptionChain [0x77C9BD2B+107]\n\tRtlClearBits [0x77C9BCAF+191]\n",
     "output_type": "error",
     "traceback": [
      "\u001b[1;31m---------------------------------------------------------------------------\u001b[0m",
      "\u001b[1;31mWebDriverException\u001b[0m                        Traceback (most recent call last)",
      "Cell \u001b[1;32mIn[113], line 1\u001b[0m\n\u001b[1;32m----> 1\u001b[0m continue_b\u001b[38;5;241m=\u001b[39m \u001b[43mdriver\u001b[49m\u001b[38;5;241;43m.\u001b[39;49m\u001b[43mfind_elements\u001b[49m\u001b[43m(\u001b[49m\u001b[43mBy\u001b[49m\u001b[38;5;241;43m.\u001b[39;49m\u001b[43mXPATH\u001b[49m\u001b[43m,\u001b[49m\u001b[38;5;124;43m'\u001b[39;49m\u001b[38;5;124;43m//span\u001b[39;49m\u001b[38;5;124;43m'\u001b[39;49m\u001b[43m)\u001b[49m\n",
      "File \u001b[1;32m~\\AppData\\Local\\Packages\\PythonSoftwareFoundation.Python.3.11_qbz5n2kfra8p0\\LocalCache\\local-packages\\Python311\\site-packages\\selenium\\webdriver\\remote\\webdriver.py:771\u001b[0m, in \u001b[0;36mWebDriver.find_elements\u001b[1;34m(self, by, value)\u001b[0m\n\u001b[0;32m    767\u001b[0m     value \u001b[38;5;241m=\u001b[39m \u001b[38;5;124mf\u001b[39m\u001b[38;5;124m'\u001b[39m\u001b[38;5;124m[name=\u001b[39m\u001b[38;5;124m\"\u001b[39m\u001b[38;5;132;01m{\u001b[39;00mvalue\u001b[38;5;132;01m}\u001b[39;00m\u001b[38;5;124m\"\u001b[39m\u001b[38;5;124m]\u001b[39m\u001b[38;5;124m'\u001b[39m\n\u001b[0;32m    769\u001b[0m \u001b[38;5;66;03m# Return empty list if driver returns null\u001b[39;00m\n\u001b[0;32m    770\u001b[0m \u001b[38;5;66;03m# See https://github.com/SeleniumHQ/selenium/issues/4555\u001b[39;00m\n\u001b[1;32m--> 771\u001b[0m \u001b[38;5;28;01mreturn\u001b[39;00m \u001b[38;5;28;43mself\u001b[39;49m\u001b[38;5;241;43m.\u001b[39;49m\u001b[43mexecute\u001b[49m\u001b[43m(\u001b[49m\u001b[43mCommand\u001b[49m\u001b[38;5;241;43m.\u001b[39;49m\u001b[43mFIND_ELEMENTS\u001b[49m\u001b[43m,\u001b[49m\u001b[43m \u001b[49m\u001b[43m{\u001b[49m\u001b[38;5;124;43m\"\u001b[39;49m\u001b[38;5;124;43musing\u001b[39;49m\u001b[38;5;124;43m\"\u001b[39;49m\u001b[43m:\u001b[49m\u001b[43m \u001b[49m\u001b[43mby\u001b[49m\u001b[43m,\u001b[49m\u001b[43m \u001b[49m\u001b[38;5;124;43m\"\u001b[39;49m\u001b[38;5;124;43mvalue\u001b[39;49m\u001b[38;5;124;43m\"\u001b[39;49m\u001b[43m:\u001b[49m\u001b[43m \u001b[49m\u001b[43mvalue\u001b[49m\u001b[43m}\u001b[49m\u001b[43m)\u001b[49m[\u001b[38;5;124m\"\u001b[39m\u001b[38;5;124mvalue\u001b[39m\u001b[38;5;124m\"\u001b[39m] \u001b[38;5;129;01mor\u001b[39;00m []\n",
      "File \u001b[1;32m~\\AppData\\Local\\Packages\\PythonSoftwareFoundation.Python.3.11_qbz5n2kfra8p0\\LocalCache\\local-packages\\Python311\\site-packages\\selenium\\webdriver\\remote\\webdriver.py:347\u001b[0m, in \u001b[0;36mWebDriver.execute\u001b[1;34m(self, driver_command, params)\u001b[0m\n\u001b[0;32m    345\u001b[0m response \u001b[38;5;241m=\u001b[39m \u001b[38;5;28mself\u001b[39m\u001b[38;5;241m.\u001b[39mcommand_executor\u001b[38;5;241m.\u001b[39mexecute(driver_command, params)\n\u001b[0;32m    346\u001b[0m \u001b[38;5;28;01mif\u001b[39;00m response:\n\u001b[1;32m--> 347\u001b[0m     \u001b[38;5;28;43mself\u001b[39;49m\u001b[38;5;241;43m.\u001b[39;49m\u001b[43merror_handler\u001b[49m\u001b[38;5;241;43m.\u001b[39;49m\u001b[43mcheck_response\u001b[49m\u001b[43m(\u001b[49m\u001b[43mresponse\u001b[49m\u001b[43m)\u001b[49m\n\u001b[0;32m    348\u001b[0m     response[\u001b[38;5;124m\"\u001b[39m\u001b[38;5;124mvalue\u001b[39m\u001b[38;5;124m\"\u001b[39m] \u001b[38;5;241m=\u001b[39m \u001b[38;5;28mself\u001b[39m\u001b[38;5;241m.\u001b[39m_unwrap_value(response\u001b[38;5;241m.\u001b[39mget(\u001b[38;5;124m\"\u001b[39m\u001b[38;5;124mvalue\u001b[39m\u001b[38;5;124m\"\u001b[39m, \u001b[38;5;28;01mNone\u001b[39;00m))\n\u001b[0;32m    349\u001b[0m     \u001b[38;5;28;01mreturn\u001b[39;00m response\n",
      "File \u001b[1;32m~\\AppData\\Local\\Packages\\PythonSoftwareFoundation.Python.3.11_qbz5n2kfra8p0\\LocalCache\\local-packages\\Python311\\site-packages\\selenium\\webdriver\\remote\\errorhandler.py:229\u001b[0m, in \u001b[0;36mErrorHandler.check_response\u001b[1;34m(self, response)\u001b[0m\n\u001b[0;32m    227\u001b[0m         alert_text \u001b[38;5;241m=\u001b[39m value[\u001b[38;5;124m\"\u001b[39m\u001b[38;5;124malert\u001b[39m\u001b[38;5;124m\"\u001b[39m]\u001b[38;5;241m.\u001b[39mget(\u001b[38;5;124m\"\u001b[39m\u001b[38;5;124mtext\u001b[39m\u001b[38;5;124m\"\u001b[39m)\n\u001b[0;32m    228\u001b[0m     \u001b[38;5;28;01mraise\u001b[39;00m exception_class(message, screen, stacktrace, alert_text)  \u001b[38;5;66;03m# type: ignore[call-arg]  # mypy is not smart enough here\u001b[39;00m\n\u001b[1;32m--> 229\u001b[0m \u001b[38;5;28;01mraise\u001b[39;00m exception_class(message, screen, stacktrace)\n",
      "\u001b[1;31mWebDriverException\u001b[0m: Message: disconnected: not connected to DevTools\n  (failed to check if window was closed: disconnected: not connected to DevTools)\n  (Session info: chrome=120.0.6099.71)\nStacktrace:\n\tGetHandleVerifier [0x00886E73+174291]\n\t(No symbol) [0x007B0AC1]\n\t(No symbol) [0x004C6FF6]\n\t(No symbol) [0x004B957F]\n\t(No symbol) [0x004B92A2]\n\t(No symbol) [0x004C8B70]\n\t(No symbol) [0x00529F88]\n\t(No symbol) [0x00516DA6]\n\t(No symbol) [0x004F1034]\n\t(No symbol) [0x004F1F8D]\n\tGetHandleVerifier [0x009249CC+820268]\n\tsqlite3_dbdata_init [0x009E4EBE+652494]\n\tsqlite3_dbdata_init [0x009E48D9+650985]\n\tsqlite3_dbdata_init [0x009D962C+605244]\n\tsqlite3_dbdata_init [0x009E586B+654971]\n\t(No symbol) [0x007BFEBC]\n\t(No symbol) [0x007B8428]\n\t(No symbol) [0x007B854D]\n\t(No symbol) [0x007A5858]\n\tBaseThreadInitThunk [0x770F7BA9+25]\n\tRtlInitializeExceptionChain [0x77C9BD2B+107]\n\tRtlClearBits [0x77C9BCAF+191]\n"
     ]
    }
   ],
   "source": [
    "continue_b= driver.find_elements(By.XPATH,'//span')"
   ]
  },
  {
   "cell_type": "code",
   "execution_count": null,
   "id": "b93ea4bb-10a8-4253-84c8-98e2bf107299",
   "metadata": {},
   "outputs": [],
   "source": [
    "continue_b[0].text"
   ]
  },
  {
   "cell_type": "code",
   "execution_count": null,
   "id": "6d2a5bc7-7302-41b1-b51d-85b6b37fa449",
   "metadata": {},
   "outputs": [],
   "source": []
  },
  {
   "cell_type": "code",
   "execution_count": null,
   "id": "40924ebe-cf3c-4555-94eb-57bef103e5c2",
   "metadata": {},
   "outputs": [],
   "source": []
  }
 ],
 "metadata": {
  "kernelspec": {
   "display_name": "Python 3 (ipykernel)",
   "language": "python",
   "name": "python3"
  },
  "language_info": {
   "codemirror_mode": {
    "name": "ipython",
    "version": 3
   },
   "file_extension": ".py",
   "mimetype": "text/x-python",
   "name": "python",
   "nbconvert_exporter": "python",
   "pygments_lexer": "ipython3",
   "version": "3.11.7"
  }
 },
 "nbformat": 4,
 "nbformat_minor": 5
}
