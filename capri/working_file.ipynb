{
 "cells": [
  {
   "cell_type": "code",
   "execution_count": 123,
   "id": "b3eb061a-d890-432b-9ad3-6ad2e49ff205",
   "metadata": {},
   "outputs": [],
   "source": [
    "from selenium import webdriver\n",
    "from selenium.webdriver.common.by import By\n",
    "from selenium.webdriver.support.ui import WebDriverWait\n",
    "from selenium.webdriver.support import expected_conditions as EC\n",
    "import os\n",
    "import re\n",
    "import datetime\n",
    "import xlrd\n",
    "import pickle\n",
    "import os.path\n",
    "from googleapiclient import discovery\n",
    "from httplib2 import Http\n",
    "import pandas as pd\n",
    "import numpy as np\n",
    "import datetime as dt\n",
    "import requests\n",
    "import shutil\n",
    "from selenium import webdriver\n",
    "from webdriver_manager.chrome import ChromeDriverManager\n",
    "from selenium.common.exceptions import ElementClickInterceptedException\n",
    "from selenium.webdriver.chrome.service import Service\n",
    "from selenium.webdriver.chrome.options import Options\n",
    "from selenium.webdriver.common.action_chains import ActionChains\n",
    "from selenium.webdriver.common.keys import Keys\n",
    "from selenium.webdriver.chrome.service import Service as ChromeService\n",
    "from PIL import Image, ImageFilter, ImageEnhance\n",
    "import pytesseract\n",
    "import zipfile \n",
    "pytesseract.pytesseract.tesseract_cmd = r'C:\\Users\\gurpreet.padam\\AppData\\Local\\Programs\\Tesseract-OCR\\tesseract.exe'  # Update path as needed\n",
    "\n",
    "# import tesseract\n",
    "# Configure the Selenium webdriver\n",
    "\n",
    "import time\n",
    "\n",
    "yesterday = (datetime.date.today() - datetime.timedelta(days=1))\n",
    "\n",
    "today = (datetime.date.today()).strftime('%d')\n",
    "os.environ['WDM_SSL_VERIFY'] = '0'"
   ]
  },
  {
   "cell_type": "code",
   "execution_count": 124,
   "id": "9820fd5a-b111-4aa1-813c-939b195029e6",
   "metadata": {},
   "outputs": [
    {
     "data": {
      "text/plain": [
       "datetime.date(2025, 1, 19)"
      ]
     },
     "execution_count": 124,
     "metadata": {},
     "output_type": "execute_result"
    }
   ],
   "source": [
    "yesterday"
   ]
  },
  {
   "cell_type": "code",
   "execution_count": 125,
   "id": "715e8f02-0268-4c3b-b015-becce0f22ab1",
   "metadata": {},
   "outputs": [
    {
     "data": {
      "text/plain": [
       "'C:\\\\Users\\\\gurpreet.padam\\\\Capri\\\\Collections\\\\Selenium\\\\CommunicationsReports\\\\SMS'"
      ]
     },
     "execution_count": 125,
     "metadata": {},
     "output_type": "execute_result"
    }
   ],
   "source": [
    "pwd"
   ]
  },
  {
   "cell_type": "code",
   "execution_count": 126,
   "id": "f631a7e6-7147-4b73-ac82-0ebe860f6e39",
   "metadata": {},
   "outputs": [],
   "source": [
    "opt = Options()\n",
    "# opt.add_argument('--headless')\n",
    "opt.add_argument(\"--disable-infobars\")\n",
    "opt.add_argument(\"start-maximized\")\n",
    "opt.add_argument(\"--disable-extensions\")\n",
    "opt.add_experimental_option(\"prefs\", {\n",
    "    \"profile.default_content_setting_values.notifications\": 2,  # Disable notifications\n",
    "    \"download.default_directory\": r\"C:\\Users\\gurpreet.padam\\Capri\\Collections\\Selenium\\CommunicationsReports\\PrpSmSCgcl\\CSV\",  # Set download path\n",
    "    \"directory_upgrade\": True\n",
    "    # \"download.prompt_for_download\": False,  # Disable download prompt\n",
    "    # \"plugins.always_open_pdf_externally\": True  # Open PDFs directly without download prompt\n",
    "})\n",
    "\n",
    "\n",
    "opt.add_argument('--disable-gpu')\n",
    "opt.add_experimental_option(\"excludeSwitches\", [\"enable-automation\"])\n",
    "opt.add_experimental_option('useAutomationExtension', False)"
   ]
  },
  {
   "cell_type": "code",
   "execution_count": 127,
   "id": "4f4dac4a-7c7f-4910-b518-5c37e1f3e6e7",
   "metadata": {},
   "outputs": [
    {
     "name": "stderr",
     "output_type": "stream",
     "text": [
      "C:\\Users\\gurpreet.padam\\AppData\\Local\\Programs\\Python\\Python313\\Lib\\site-packages\\urllib3\\connectionpool.py:1097: InsecureRequestWarning: Unverified HTTPS request is being made to host 'googlechromelabs.github.io'. Adding certificate verification is strongly advised. See: https://urllib3.readthedocs.io/en/latest/advanced-usage.html#tls-warnings\n",
      "  warnings.warn(\n",
      "C:\\Users\\gurpreet.padam\\AppData\\Local\\Programs\\Python\\Python313\\Lib\\site-packages\\urllib3\\connectionpool.py:1097: InsecureRequestWarning: Unverified HTTPS request is being made to host 'googlechromelabs.github.io'. Adding certificate verification is strongly advised. See: https://urllib3.readthedocs.io/en/latest/advanced-usage.html#tls-warnings\n",
      "  warnings.warn(\n"
     ]
    }
   ],
   "source": [
    "# Configure Chrome options.\n",
    "# opts = Options()\n",
    "\n",
    "# Configure ChromeDriver service.\n",
    "service = Service(ChromeDriverManager().install())\n",
    "\n",
    "# Start the Chrome driver with the configured options and service.\n",
    "driver = webdriver.Chrome(service=service, options=opt)"
   ]
  },
  {
   "cell_type": "code",
   "execution_count": 128,
   "id": "58f6fd04-3de5-4640-831b-8ab15ecd2276",
   "metadata": {},
   "outputs": [],
   "source": [
    "driver.get(\"https://wa.chatmybot.in/#/\")\n",
    "time.sleep(10)"
   ]
  },
  {
   "cell_type": "code",
   "execution_count": 129,
   "id": "1febf3ac-0a3b-445f-ad80-4ba4749d4970",
   "metadata": {},
   "outputs": [],
   "source": [
    "username = driver.find_element(By.ID, \"username\")\n",
    "username.send_keys(\"20352\")"
   ]
  },
  {
   "cell_type": "code",
   "execution_count": 130,
   "id": "4a860c40-cd57-4652-8f2c-9f9becabdc23",
   "metadata": {},
   "outputs": [],
   "source": [
    "password = driver.find_element(By.ID, \"password\")\n",
    "password.send_keys(\"8451021021\")"
   ]
  },
  {
   "cell_type": "code",
   "execution_count": 131,
   "id": "70eb0071-1c98-4671-85e3-6dc5d1dd9d09",
   "metadata": {},
   "outputs": [],
   "source": [
    "first_num = driver.find_element(By.XPATH, \"//input[@id='number1']\").get_attribute(\"value\")\n",
    "second_num = driver.find_element(By.XPATH, \"//input[@id='number2']\").get_attribute(\"value\")\n",
    "\n",
    "# total = \n"
   ]
  },
  {
   "cell_type": "code",
   "execution_count": 132,
   "id": "da455fc0-112c-47a0-b3db-2f28fb006c1c",
   "metadata": {},
   "outputs": [],
   "source": [
    "calc_sign = driver.find_element(By.XPATH, \"//span[contains(@class,'calculate')]\").text\n"
   ]
  },
  {
   "cell_type": "code",
   "execution_count": 133,
   "id": "a40f0697-4cc9-44d7-8e3c-010511990e26",
   "metadata": {},
   "outputs": [],
   "source": [
    "result = eval(f\"{first_num} {calc_sign} {second_num}\")"
   ]
  },
  {
   "cell_type": "code",
   "execution_count": 134,
   "id": "7e167898-fc70-49e1-b9ca-dc5e0c58832f",
   "metadata": {},
   "outputs": [],
   "source": [
    "entr_tot = driver.find_element(By.XPATH, \"//input[@placeholder='Enter Total']\")\n",
    "entr_tot.send_keys(result)"
   ]
  },
  {
   "cell_type": "code",
   "execution_count": 135,
   "id": "b77f0e24-1628-4e4c-8608-1add5a7cdfb4",
   "metadata": {},
   "outputs": [],
   "source": [
    "login = driver.find_element(By.XPATH, \"//button[@class='btn btn-success']\")\n",
    "login.click()\n",
    "time.sleep(12)"
   ]
  },
  {
   "cell_type": "code",
   "execution_count": 136,
   "id": "0c71591b-ee5e-4605-8143-14fba54fdd01",
   "metadata": {},
   "outputs": [],
   "source": [
    "report_page = driver.find_element(By.XPATH, \"//button[@title='Click Here To Select Service As Default' and text() = 'Select Service']\")\n",
    "report_page.click()\n",
    "\n",
    "time.sleep(5)"
   ]
  },
  {
   "cell_type": "code",
   "execution_count": 137,
   "id": "e775b7e1-68b2-46f9-a8e9-6656c035da95",
   "metadata": {},
   "outputs": [],
   "source": [
    "fltr = driver.find_element(By.XPATH, \"//button[@class='btn btn-add buttonStyle' and text() = 'Filter']\")\n",
    "fltr.click()"
   ]
  },
  {
   "cell_type": "code",
   "execution_count": 138,
   "id": "f79eaed8-f831-4714-ad7e-8222922ec741",
   "metadata": {},
   "outputs": [],
   "source": [
    "strt_dt = driver.find_element(By.XPATH, \"//input[@type='date' and @name = 'startdate']\")\n",
    "strt_dt.send_keys('00'+str(yesterday))"
   ]
  },
  {
   "cell_type": "code",
   "execution_count": 139,
   "id": "69fbe818-e152-4523-a9df-148ec4012b6d",
   "metadata": {},
   "outputs": [],
   "source": [
    "end_dt = driver.find_element(By.XPATH, \"//input[@type='date' and @name = 'enddate']\")\n",
    "end_dt.send_keys('00'+str(yesterday))"
   ]
  },
  {
   "cell_type": "code",
   "execution_count": 140,
   "id": "fc928b18-b232-4d22-a38c-fb30dccfdbef",
   "metadata": {},
   "outputs": [],
   "source": [
    "time.sleep(3)"
   ]
  },
  {
   "cell_type": "code",
   "execution_count": 141,
   "id": "a0c8c806-7569-4f03-80f3-f94ca60f236f",
   "metadata": {},
   "outputs": [],
   "source": [
    "driver.find_element(By.XPATH, \"//button[@type='submit' and text() = 'Filter ']\").click()"
   ]
  },
  {
   "cell_type": "code",
   "execution_count": 142,
   "id": "0e1804da-acb1-4a19-a21a-cdfb820e7b1a",
   "metadata": {},
   "outputs": [],
   "source": [
    "time.sleep(30)"
   ]
  },
  {
   "cell_type": "code",
   "execution_count": 143,
   "id": "d84b4dbf-cfc0-46e8-920b-d74d31c4b1cc",
   "metadata": {},
   "outputs": [],
   "source": [
    "driver.find_element(By.XPATH, \"//button[@class='btn btn-add' and text() = 'Download DLR Report ']\").click()"
   ]
  },
  {
   "cell_type": "code",
   "execution_count": 144,
   "id": "ff4b4712-f507-400a-b5b7-60488c52ae40",
   "metadata": {},
   "outputs": [],
   "source": [
    "try:\n",
    "    read_file=pd.read_excel('C:/Users/gurpreet.padam/Capri/Collections/Selenium/CommunicationsReports/PrpSmSCgcl/CSV/DLReport.xlsx')\n",
    "    read_file.to_csv('C:/Users/gurpreet.padam/Capri/Collections/Selenium/CommunicationsReports/PrpSmSCgcl/CSV/karix_wa_API_'+str(datetime.date.today() - datetime.timedelta(days=1))+'.csv', index = None,header=True) \n",
    "    os.remove('C:/Users/gurpreet.padam/Capri/Collections/Selenium/CommunicationsReports/PrpSmSCgcl/CSV/DLReport.xlsx')\n",
    "except:\n",
    "    pass"
   ]
  },
  {
   "cell_type": "code",
   "execution_count": 145,
   "id": "d9fce40c-ecfa-429c-bb0e-1cfc239beaa9",
   "metadata": {},
   "outputs": [
    {
     "ename": "FileNotFoundError",
     "evalue": "[Errno 2] No such file or directory: 'C:/Users/gurpreet.padam/Capri/Collections/Selenium/CommunicationsReports/PrpSmSCgcl/CSV/DLReport.xlsx'",
     "output_type": "error",
     "traceback": [
      "\u001b[1;31m---------------------------------------------------------------------------\u001b[0m",
      "\u001b[1;31mFileNotFoundError\u001b[0m                         Traceback (most recent call last)",
      "Cell \u001b[1;32mIn[145], line 1\u001b[0m\n\u001b[1;32m----> 1\u001b[0m read_file\u001b[38;5;241m=\u001b[39m\u001b[43mpd\u001b[49m\u001b[38;5;241;43m.\u001b[39;49m\u001b[43mread_excel\u001b[49m\u001b[43m(\u001b[49m\u001b[38;5;124;43m'\u001b[39;49m\u001b[38;5;124;43mC:/Users/gurpreet.padam/Capri/Collections/Selenium/CommunicationsReports/PrpSmSCgcl/CSV/DLReport.xlsx\u001b[39;49m\u001b[38;5;124;43m'\u001b[39;49m\u001b[43m)\u001b[49m\n",
      "File \u001b[1;32m~\\AppData\\Local\\Programs\\Python\\Python313\\Lib\\site-packages\\pandas\\io\\excel\\_base.py:495\u001b[0m, in \u001b[0;36mread_excel\u001b[1;34m(io, sheet_name, header, names, index_col, usecols, dtype, engine, converters, true_values, false_values, skiprows, nrows, na_values, keep_default_na, na_filter, verbose, parse_dates, date_parser, date_format, thousands, decimal, comment, skipfooter, storage_options, dtype_backend, engine_kwargs)\u001b[0m\n\u001b[0;32m    493\u001b[0m \u001b[38;5;28;01mif\u001b[39;00m \u001b[38;5;129;01mnot\u001b[39;00m \u001b[38;5;28misinstance\u001b[39m(io, ExcelFile):\n\u001b[0;32m    494\u001b[0m     should_close \u001b[38;5;241m=\u001b[39m \u001b[38;5;28;01mTrue\u001b[39;00m\n\u001b[1;32m--> 495\u001b[0m     io \u001b[38;5;241m=\u001b[39m \u001b[43mExcelFile\u001b[49m\u001b[43m(\u001b[49m\n\u001b[0;32m    496\u001b[0m \u001b[43m        \u001b[49m\u001b[43mio\u001b[49m\u001b[43m,\u001b[49m\n\u001b[0;32m    497\u001b[0m \u001b[43m        \u001b[49m\u001b[43mstorage_options\u001b[49m\u001b[38;5;241;43m=\u001b[39;49m\u001b[43mstorage_options\u001b[49m\u001b[43m,\u001b[49m\n\u001b[0;32m    498\u001b[0m \u001b[43m        \u001b[49m\u001b[43mengine\u001b[49m\u001b[38;5;241;43m=\u001b[39;49m\u001b[43mengine\u001b[49m\u001b[43m,\u001b[49m\n\u001b[0;32m    499\u001b[0m \u001b[43m        \u001b[49m\u001b[43mengine_kwargs\u001b[49m\u001b[38;5;241;43m=\u001b[39;49m\u001b[43mengine_kwargs\u001b[49m\u001b[43m,\u001b[49m\n\u001b[0;32m    500\u001b[0m \u001b[43m    \u001b[49m\u001b[43m)\u001b[49m\n\u001b[0;32m    501\u001b[0m \u001b[38;5;28;01melif\u001b[39;00m engine \u001b[38;5;129;01mand\u001b[39;00m engine \u001b[38;5;241m!=\u001b[39m io\u001b[38;5;241m.\u001b[39mengine:\n\u001b[0;32m    502\u001b[0m     \u001b[38;5;28;01mraise\u001b[39;00m \u001b[38;5;167;01mValueError\u001b[39;00m(\n\u001b[0;32m    503\u001b[0m         \u001b[38;5;124m\"\u001b[39m\u001b[38;5;124mEngine should not be specified when passing \u001b[39m\u001b[38;5;124m\"\u001b[39m\n\u001b[0;32m    504\u001b[0m         \u001b[38;5;124m\"\u001b[39m\u001b[38;5;124man ExcelFile - ExcelFile already has the engine set\u001b[39m\u001b[38;5;124m\"\u001b[39m\n\u001b[0;32m    505\u001b[0m     )\n",
      "File \u001b[1;32m~\\AppData\\Local\\Programs\\Python\\Python313\\Lib\\site-packages\\pandas\\io\\excel\\_base.py:1550\u001b[0m, in \u001b[0;36mExcelFile.__init__\u001b[1;34m(self, path_or_buffer, engine, storage_options, engine_kwargs)\u001b[0m\n\u001b[0;32m   1548\u001b[0m     ext \u001b[38;5;241m=\u001b[39m \u001b[38;5;124m\"\u001b[39m\u001b[38;5;124mxls\u001b[39m\u001b[38;5;124m\"\u001b[39m\n\u001b[0;32m   1549\u001b[0m \u001b[38;5;28;01melse\u001b[39;00m:\n\u001b[1;32m-> 1550\u001b[0m     ext \u001b[38;5;241m=\u001b[39m \u001b[43minspect_excel_format\u001b[49m\u001b[43m(\u001b[49m\n\u001b[0;32m   1551\u001b[0m \u001b[43m        \u001b[49m\u001b[43mcontent_or_path\u001b[49m\u001b[38;5;241;43m=\u001b[39;49m\u001b[43mpath_or_buffer\u001b[49m\u001b[43m,\u001b[49m\u001b[43m \u001b[49m\u001b[43mstorage_options\u001b[49m\u001b[38;5;241;43m=\u001b[39;49m\u001b[43mstorage_options\u001b[49m\n\u001b[0;32m   1552\u001b[0m \u001b[43m    \u001b[49m\u001b[43m)\u001b[49m\n\u001b[0;32m   1553\u001b[0m     \u001b[38;5;28;01mif\u001b[39;00m ext \u001b[38;5;129;01mis\u001b[39;00m \u001b[38;5;28;01mNone\u001b[39;00m:\n\u001b[0;32m   1554\u001b[0m         \u001b[38;5;28;01mraise\u001b[39;00m \u001b[38;5;167;01mValueError\u001b[39;00m(\n\u001b[0;32m   1555\u001b[0m             \u001b[38;5;124m\"\u001b[39m\u001b[38;5;124mExcel file format cannot be determined, you must specify \u001b[39m\u001b[38;5;124m\"\u001b[39m\n\u001b[0;32m   1556\u001b[0m             \u001b[38;5;124m\"\u001b[39m\u001b[38;5;124man engine manually.\u001b[39m\u001b[38;5;124m\"\u001b[39m\n\u001b[0;32m   1557\u001b[0m         )\n",
      "File \u001b[1;32m~\\AppData\\Local\\Programs\\Python\\Python313\\Lib\\site-packages\\pandas\\io\\excel\\_base.py:1402\u001b[0m, in \u001b[0;36minspect_excel_format\u001b[1;34m(content_or_path, storage_options)\u001b[0m\n\u001b[0;32m   1399\u001b[0m \u001b[38;5;28;01mif\u001b[39;00m \u001b[38;5;28misinstance\u001b[39m(content_or_path, \u001b[38;5;28mbytes\u001b[39m):\n\u001b[0;32m   1400\u001b[0m     content_or_path \u001b[38;5;241m=\u001b[39m BytesIO(content_or_path)\n\u001b[1;32m-> 1402\u001b[0m \u001b[38;5;28;01mwith\u001b[39;00m \u001b[43mget_handle\u001b[49m\u001b[43m(\u001b[49m\n\u001b[0;32m   1403\u001b[0m \u001b[43m    \u001b[49m\u001b[43mcontent_or_path\u001b[49m\u001b[43m,\u001b[49m\u001b[43m \u001b[49m\u001b[38;5;124;43m\"\u001b[39;49m\u001b[38;5;124;43mrb\u001b[39;49m\u001b[38;5;124;43m\"\u001b[39;49m\u001b[43m,\u001b[49m\u001b[43m \u001b[49m\u001b[43mstorage_options\u001b[49m\u001b[38;5;241;43m=\u001b[39;49m\u001b[43mstorage_options\u001b[49m\u001b[43m,\u001b[49m\u001b[43m \u001b[49m\u001b[43mis_text\u001b[49m\u001b[38;5;241;43m=\u001b[39;49m\u001b[38;5;28;43;01mFalse\u001b[39;49;00m\n\u001b[0;32m   1404\u001b[0m \u001b[43m\u001b[49m\u001b[43m)\u001b[49m \u001b[38;5;28;01mas\u001b[39;00m handle:\n\u001b[0;32m   1405\u001b[0m     stream \u001b[38;5;241m=\u001b[39m handle\u001b[38;5;241m.\u001b[39mhandle\n\u001b[0;32m   1406\u001b[0m     stream\u001b[38;5;241m.\u001b[39mseek(\u001b[38;5;241m0\u001b[39m)\n",
      "File \u001b[1;32m~\\AppData\\Local\\Programs\\Python\\Python313\\Lib\\site-packages\\pandas\\io\\common.py:882\u001b[0m, in \u001b[0;36mget_handle\u001b[1;34m(path_or_buf, mode, encoding, compression, memory_map, is_text, errors, storage_options)\u001b[0m\n\u001b[0;32m    873\u001b[0m         handle \u001b[38;5;241m=\u001b[39m \u001b[38;5;28mopen\u001b[39m(\n\u001b[0;32m    874\u001b[0m             handle,\n\u001b[0;32m    875\u001b[0m             ioargs\u001b[38;5;241m.\u001b[39mmode,\n\u001b[1;32m   (...)\u001b[0m\n\u001b[0;32m    878\u001b[0m             newline\u001b[38;5;241m=\u001b[39m\u001b[38;5;124m\"\u001b[39m\u001b[38;5;124m\"\u001b[39m,\n\u001b[0;32m    879\u001b[0m         )\n\u001b[0;32m    880\u001b[0m     \u001b[38;5;28;01melse\u001b[39;00m:\n\u001b[0;32m    881\u001b[0m         \u001b[38;5;66;03m# Binary mode\u001b[39;00m\n\u001b[1;32m--> 882\u001b[0m         handle \u001b[38;5;241m=\u001b[39m \u001b[38;5;28;43mopen\u001b[39;49m\u001b[43m(\u001b[49m\u001b[43mhandle\u001b[49m\u001b[43m,\u001b[49m\u001b[43m \u001b[49m\u001b[43mioargs\u001b[49m\u001b[38;5;241;43m.\u001b[39;49m\u001b[43mmode\u001b[49m\u001b[43m)\u001b[49m\n\u001b[0;32m    883\u001b[0m     handles\u001b[38;5;241m.\u001b[39mappend(handle)\n\u001b[0;32m    885\u001b[0m \u001b[38;5;66;03m# Convert BytesIO or file objects passed with an encoding\u001b[39;00m\n",
      "\u001b[1;31mFileNotFoundError\u001b[0m: [Errno 2] No such file or directory: 'C:/Users/gurpreet.padam/Capri/Collections/Selenium/CommunicationsReports/PrpSmSCgcl/CSV/DLReport.xlsx'"
     ]
    }
   ],
   "source": [
    "read_file=pd.read_excel('C:/Users/gurpreet.padam/Capri/Collections/Selenium/CommunicationsReports/PrpSmSCgcl/CSV/DLReport.xlsx')"
   ]
  },
  {
   "cell_type": "code",
   "execution_count": null,
   "id": "0bc8be39-3330-4e6e-bbb8-5fe6b0c6eef5",
   "metadata": {},
   "outputs": [],
   "source": [
    "read_file"
   ]
  },
  {
   "cell_type": "code",
   "execution_count": null,
   "id": "d8b7984e-aaa8-4530-a1d2-350cffc2aa95",
   "metadata": {},
   "outputs": [],
   "source": []
  }
 ],
 "metadata": {
  "kernelspec": {
   "display_name": "Python 3 (ipykernel)",
   "language": "python",
   "name": "python3"
  },
  "language_info": {
   "codemirror_mode": {
    "name": "ipython",
    "version": 3
   },
   "file_extension": ".py",
   "mimetype": "text/x-python",
   "name": "python",
   "nbconvert_exporter": "python",
   "pygments_lexer": "ipython3",
   "version": "3.13.1"
  }
 },
 "nbformat": 4,
 "nbformat_minor": 5
}
