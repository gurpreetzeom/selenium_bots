{
 "cells": [
  {
   "cell_type": "code",
   "execution_count": 1,
   "id": "c5b0f384-0597-4bf8-be89-6a28660fb090",
   "metadata": {},
   "outputs": [],
   "source": [
    "from selenium import webdriver\n",
    "from selenium.webdriver.common.by import By\n",
    "from selenium.webdriver.support.ui import WebDriverWait\n",
    "from selenium.webdriver.support import expected_conditions as EC\n",
    "import pickle\n",
    "import os.path\n",
    "from googleapiclient import discovery\n",
    "from httplib2 import Http\n",
    "import pandas as pd\n",
    "import numpy as np\n",
    "import datetime as dt\n",
    "import requests\n",
    "import shutil\n",
    "from selenium import webdriver\n",
    "from webdriver_manager.chrome import ChromeDriverManager\n",
    "from selenium.common.exceptions import ElementClickInterceptedException\n",
    "from selenium.webdriver.chrome.service import Service\n",
    "from selenium.webdriver.chrome.options import Options\n",
    "from selenium.webdriver.common.action_chains import ActionChains\n",
    "from selenium.webdriver.common.keys import Keys\n",
    "from selenium.webdriver.chrome.service import Service as ChromeService\n",
    "# Configure the Selenium webdriver\n",
    "\n",
    "import time\n"
   ]
  },
  {
   "cell_type": "code",
   "execution_count": 2,
   "id": "521c30f9-b230-4b22-a7b6-2fd3646714a7",
   "metadata": {},
   "outputs": [],
   "source": [
    "opt = Options()\n",
    "# opt.add_argument('--headless')\n",
    "opt.add_argument(\"--disable-infobars\")\n",
    "opt.add_argument(\"start-maximized\")\n",
    "opt.add_argument(\"--disable-extensions\")\n",
    "opt.add_experimental_option(\"prefs\", {\\\n",
    "    \"profile.default_content_setting_values.notifications\":1\n",
    "    })\n",
    "opt.add_argument('--disable-gpu')\n",
    "opt.add_experimental_option(\"excludeSwitches\", [\"enable-automation\"])\n",
    "opt.add_experimental_option('useAutomationExtension', False)\n"
   ]
  },
  {
   "cell_type": "code",
   "execution_count": 3,
   "id": "7a087a26-1691-45c8-a216-12a239506d9f",
   "metadata": {},
   "outputs": [],
   "source": [
    "# options = webdriver.ChromeOptions()\n",
    "# driver = webdriver.Chrome(ChromeDriverManager().install(),options= options)\n",
    "driver = webdriver.Chrome(service=ChromeService(ChromeDriverManager().install()))\n"
   ]
  },
  {
   "cell_type": "code",
   "execution_count": 4,
   "id": "afae59c2-6cb4-418e-90db-22af88211d03",
   "metadata": {},
   "outputs": [],
   "source": [
    "\n",
    "driver.get(\"https://www.google.com\")\n"
   ]
  },
  {
   "cell_type": "code",
   "execution_count": null,
   "id": "3dabb98e-26e2-437d-a29d-d96ef2f3a325",
   "metadata": {},
   "outputs": [],
   "source": []
  },
  {
   "cell_type": "code",
   "execution_count": 5,
   "id": "57b99215-b4cb-4e44-96eb-b21827ac1b02",
   "metadata": {},
   "outputs": [],
   "source": [
    "seach_bar= driver.find_element(By.CLASS_NAME, \"gLFyf\")\n",
    "seach_bar.send_keys(\"lawyers in gurgaon\")\n",
    "seach_bar.submit()\n",
    "# target_url = \"https://vahan.parivahan.gov.in/nrservices/faces/user/citizen/citizenlogin.xhtml\"\n",
    "# href = link.get_attribute(\"href\")"
   ]
  },
  {
   "cell_type": "code",
   "execution_count": 6,
   "id": "987d4ef9-8497-4fbb-8d4f-179db385f325",
   "metadata": {},
   "outputs": [
    {
     "name": "stdout",
     "output_type": "stream",
     "text": [
      "click on more_places\n"
     ]
    }
   ],
   "source": [
    "print( 'click on more_places')\n",
    "driver.find_element(By.XPATH,\"//span[contains(., 'More places')]\").click()"
   ]
  },
  {
   "cell_type": "code",
   "execution_count": 7,
   "id": "5f174433-9db7-4ec9-8fe7-c4c518925ce0",
   "metadata": {},
   "outputs": [],
   "source": [
    "# driver.find_element(By.XPATH,\"//span[contains(., 'More places')]\")"
   ]
  },
  {
   "cell_type": "code",
   "execution_count": 8,
   "id": "53d7c370-86bc-422d-bc6f-02d9a4f141b6",
   "metadata": {},
   "outputs": [],
   "source": [
    "# driver.find_element(By.ID, \"searchbox-searchbutton\").click()\n",
    "# time.sleep(5)"
   ]
  },
  {
   "cell_type": "code",
   "execution_count": 9,
   "id": "5d2e50ec-28bc-4b6e-ab71-5a065cc110b0",
   "metadata": {},
   "outputs": [],
   "source": [
    "# driver.execute_script(\"return document.body.scrollHeight\")\n",
    "# driver.execute_script(\"window.scrollTo(0,document.body.scrollHeight)\")\n"
   ]
  },
  {
   "cell_type": "code",
   "execution_count": 10,
   "id": "62c0ef6b-480d-42ac-99b7-3dee4c4f4f8a",
   "metadata": {},
   "outputs": [],
   "source": [
    "# name = driver.find_elements(By.CLASS_NAME,'NrDZNb') \n",
    "# number= driver.find_elements(By.CLASS_NAME,'UsdlK') \n",
    "data_file = pd.DataFrame(columns=['name', 'phone','address'])\n",
    "while True:\n",
    "    total_elements = driver.find_elements(By.CLASS_NAME,\"rllt__details\")\n",
    "    for i in range(len(total_elements)):\n",
    "        try:\n",
    "            name = total_elements[i].find_element(By.CLASS_NAME,\"OSrXXb\").text.encode('ascii', 'ignore').decode(\"utf-8\")\n",
    "        except:\n",
    "            pass\n",
    "        try:\n",
    "            phone = total_elements[i].find_elements(By.XPATH,\"//div[2]//div//div//a//div//div//div[4]\")[i].text.encode('ascii', 'ignore').decode(\"utf-8\")\n",
    "            phone=phone.replace(' ','')[len(phone.replace(' ',''))-10:]\n",
    "            try:\n",
    "                \n",
    "                type(int(phone))==True\n",
    "                phone=phone\n",
    "            except:\n",
    "                phone=None\n",
    "            \n",
    "        except:\n",
    "            pass\n",
    "        try:\n",
    "            address = total_elements[i].find_elements(By.XPATH,\"//div[2]//div//div//a//div//div//div[3]\")[i].text.encode('ascii', 'ignore').decode(\"utf-8\")\n",
    "        except:\n",
    "            pass\n",
    "        temp_df = pd.DataFrame({'name':[name], 'phone':[phone],'address':[address]})\n",
    "                # temp_df.set_index('sent_time')\n",
    "    \n",
    "        data_file=pd.concat([data_file,temp_df],  ignore_index=True)\n",
    "    time.sleep(3)\n",
    "    try:\n",
    "        driver.find_element(By.XPATH,\"//span[contains(., 'Next')]\").click()\n",
    "    except:\n",
    "        break\n",
    "\n",
    "        # print(str(name)+' | '+str(phone)+' | '+str(rating)+' | '+str(address))    \n",
    "    # driver.find_elements(By.CLASS_NAME,\"lI9IFe \")[0].find_elements(By.CLASS_NAME,'UsdlK')[0].text"
   ]
  },
  {
   "cell_type": "code",
   "execution_count": 11,
   "id": "21ff5086-0c59-4f9e-803c-20d1b3fc6c85",
   "metadata": {},
   "outputs": [],
   "source": [
    "data_file2=data_file\n",
    "data_file.drop_duplicates(inplace=True)"
   ]
  },
  {
   "cell_type": "code",
   "execution_count": 12,
   "id": "5dc93c46-5282-4bdd-89f1-52ccca8c2ad1",
   "metadata": {},
   "outputs": [
    {
     "data": {
      "text/html": [
       "<div>\n",
       "<style scoped>\n",
       "    .dataframe tbody tr th:only-of-type {\n",
       "        vertical-align: middle;\n",
       "    }\n",
       "\n",
       "    .dataframe tbody tr th {\n",
       "        vertical-align: top;\n",
       "    }\n",
       "\n",
       "    .dataframe thead th {\n",
       "        text-align: right;\n",
       "    }\n",
       "</style>\n",
       "<table border=\"1\" class=\"dataframe\">\n",
       "  <thead>\n",
       "    <tr style=\"text-align: right;\">\n",
       "      <th></th>\n",
       "      <th>name</th>\n",
       "      <th>phone</th>\n",
       "      <th>address</th>\n",
       "    </tr>\n",
       "  </thead>\n",
       "  <tbody>\n",
       "    <tr>\n",
       "      <th>0</th>\n",
       "      <td>ADVOCATE ANKIT SHARMA LAW OFFICE|FAMILY LAWYER...</td>\n",
       "      <td>8588853623</td>\n",
       "      <td>7+ years in business  427, 16 A, near Rajiv Chowk</td>\n",
       "    </tr>\n",
       "    <tr>\n",
       "      <th>1</th>\n",
       "      <td>Amarjeet Yadav Advocate</td>\n",
       "      <td>9891470405</td>\n",
       "      <td>15+ years in business  Old Judicial Complex, C...</td>\n",
       "    </tr>\n",
       "    <tr>\n",
       "      <th>2</th>\n",
       "      <td>Legal Square Law firm</td>\n",
       "      <td>9891470405</td>\n",
       "      <td>15+ years in business  Old Judicial Complex, 1...</td>\n",
       "    </tr>\n",
       "    <tr>\n",
       "      <th>3</th>\n",
       "      <td>Advocate Rajat Kadyan - Lawyer in Gurgaon</td>\n",
       "      <td>8295413475</td>\n",
       "      <td>5+ years in business  145, SBS block, DISTRICT...</td>\n",
       "    </tr>\n",
       "    <tr>\n",
       "      <th>4</th>\n",
       "      <td>Advocate Preeti JD Family/Divorce lawyer</td>\n",
       "      <td>8800383046</td>\n",
       "      <td>15+ years in business  Ch num 149, C Block Dis...</td>\n",
       "    </tr>\n",
       "    <tr>\n",
       "      <th>...</th>\n",
       "      <td>...</td>\n",
       "      <td>...</td>\n",
       "      <td>...</td>\n",
       "    </tr>\n",
       "    <tr>\n",
       "      <th>184</th>\n",
       "      <td>Anil Kumar Yadav</td>\n",
       "      <td>None</td>\n",
       "      <td>#123, Block-A, Lawyers' Chambers</td>\n",
       "    </tr>\n",
       "    <tr>\n",
       "      <th>185</th>\n",
       "      <td>JurrisNest- RERA Lawyer, DC License, Matrimoni...</td>\n",
       "      <td>9818245619</td>\n",
       "      <td>518, 3rd floor, Deep Plaza, opp. DISTRICT COURT</td>\n",
       "    </tr>\n",
       "    <tr>\n",
       "      <th>186</th>\n",
       "      <td>Mandeep Sehra Advocates</td>\n",
       "      <td>9891481732</td>\n",
       "      <td>1, 14, Block A, S.F, Lawyers Chamber, Gurugram...</td>\n",
       "    </tr>\n",
       "    <tr>\n",
       "      <th>187</th>\n",
       "      <td>Vinod Kaushik Advocate</td>\n",
       "      <td>9871145827</td>\n",
       "      <td>C2XJ+JJ9</td>\n",
       "    </tr>\n",
       "    <tr>\n",
       "      <th>188</th>\n",
       "      <td>Suresh Chand Sharma</td>\n",
       "      <td>9871145827</td>\n",
       "      <td>C2XJ+JJ9</td>\n",
       "    </tr>\n",
       "  </tbody>\n",
       "</table>\n",
       "<p>99 rows × 3 columns</p>\n",
       "</div>"
      ],
      "text/plain": [
       "                                                  name       phone  \\\n",
       "0    ADVOCATE ANKIT SHARMA LAW OFFICE|FAMILY LAWYER...  8588853623   \n",
       "1                              Amarjeet Yadav Advocate  9891470405   \n",
       "2                                Legal Square Law firm  9891470405   \n",
       "3            Advocate Rajat Kadyan - Lawyer in Gurgaon  8295413475   \n",
       "4             Advocate Preeti JD Family/Divorce lawyer  8800383046   \n",
       "..                                                 ...         ...   \n",
       "184                                   Anil Kumar Yadav        None   \n",
       "185  JurrisNest- RERA Lawyer, DC License, Matrimoni...  9818245619   \n",
       "186                            Mandeep Sehra Advocates  9891481732   \n",
       "187                             Vinod Kaushik Advocate  9871145827   \n",
       "188                                Suresh Chand Sharma  9871145827   \n",
       "\n",
       "                                               address  \n",
       "0    7+ years in business  427, 16 A, near Rajiv Chowk  \n",
       "1    15+ years in business  Old Judicial Complex, C...  \n",
       "2    15+ years in business  Old Judicial Complex, 1...  \n",
       "3    5+ years in business  145, SBS block, DISTRICT...  \n",
       "4    15+ years in business  Ch num 149, C Block Dis...  \n",
       "..                                                 ...  \n",
       "184                   #123, Block-A, Lawyers' Chambers  \n",
       "185    518, 3rd floor, Deep Plaza, opp. DISTRICT COURT  \n",
       "186  1, 14, Block A, S.F, Lawyers Chamber, Gurugram...  \n",
       "187                                           C2XJ+JJ9  \n",
       "188                                           C2XJ+JJ9  \n",
       "\n",
       "[99 rows x 3 columns]"
      ]
     },
     "execution_count": 12,
     "metadata": {},
     "output_type": "execute_result"
    }
   ],
   "source": [
    "data_file"
   ]
  },
  {
   "cell_type": "code",
   "execution_count": 13,
   "id": "7cbe8125-d714-4ac6-9f17-baaf0715297f",
   "metadata": {},
   "outputs": [],
   "source": [
    "data_file.to_csv('layers_in_gurgaon.csv', index= False)"
   ]
  },
  {
   "cell_type": "code",
   "execution_count": null,
   "id": "6f723d64-a41e-4c22-b325-454939477c38",
   "metadata": {},
   "outputs": [],
   "source": []
  }
 ],
 "metadata": {
  "kernelspec": {
   "display_name": "Python 3 (ipykernel)",
   "language": "python",
   "name": "python3"
  },
  "language_info": {
   "codemirror_mode": {
    "name": "ipython",
    "version": 3
   },
   "file_extension": ".py",
   "mimetype": "text/x-python",
   "name": "python",
   "nbconvert_exporter": "python",
   "pygments_lexer": "ipython3",
   "version": "3.11.7"
  }
 },
 "nbformat": 4,
 "nbformat_minor": 5
}
